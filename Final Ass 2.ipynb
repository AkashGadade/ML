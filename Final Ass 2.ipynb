{
 "cells": [
  {
   "cell_type": "code",
   "execution_count": null,
   "id": "b6663c4e",
   "metadata": {},
   "outputs": [],
   "source": []
  },
  {
   "cell_type": "markdown",
   "id": "43d9dc51",
   "metadata": {},
   "source": [
    "Regression Analysis:(Any one) \n",
    "A. Predict the price of the Uber ride from a given pickup point to the agreed drop-off\n",
    "location. Perform following tasks: \n",
    "                 1. Pre-process the dataset. \n",
    "                 2. Identify outliers.\n",
    "                 3. Check the correlation. \n",
    "                4. Implement linear regression and ridge, Lasso regression models. \n",
    "                5. Evaluate the models and compare their respective scores like R2, RMSE, etc.\n",
    "Dataset link:       https://www.kaggle.com/datasets/yasserh/uber-fares-dataset "
   ]
  },
  {
   "cell_type": "code",
   "execution_count": 174,
   "id": "e6acc03c",
   "metadata": {},
   "outputs": [],
   "source": [
    "import pandas as pd \n",
    "import numpy as np \n",
    "import seaborn as sns\n",
    "import matplotlib.pyplot as plt\n",
    "import plotly.express as px\n",
    "import warnings\n",
    "warnings.filterwarnings('ignore')"
   ]
  },
  {
   "cell_type": "code",
   "execution_count": 175,
   "id": "0902dd79",
   "metadata": {},
   "outputs": [
    {
     "data": {
      "text/html": [
       "<div>\n",
       "<style scoped>\n",
       "    .dataframe tbody tr th:only-of-type {\n",
       "        vertical-align: middle;\n",
       "    }\n",
       "\n",
       "    .dataframe tbody tr th {\n",
       "        vertical-align: top;\n",
       "    }\n",
       "\n",
       "    .dataframe thead th {\n",
       "        text-align: right;\n",
       "    }\n",
       "</style>\n",
       "<table border=\"1\" class=\"dataframe\">\n",
       "  <thead>\n",
       "    <tr style=\"text-align: right;\">\n",
       "      <th></th>\n",
       "      <th>Unnamed: 0</th>\n",
       "      <th>key</th>\n",
       "      <th>fare_amount</th>\n",
       "      <th>pickup_datetime</th>\n",
       "      <th>pickup_longitude</th>\n",
       "      <th>pickup_latitude</th>\n",
       "      <th>dropoff_longitude</th>\n",
       "      <th>dropoff_latitude</th>\n",
       "      <th>passenger_count</th>\n",
       "    </tr>\n",
       "  </thead>\n",
       "  <tbody>\n",
       "    <tr>\n",
       "      <th>0</th>\n",
       "      <td>24238194</td>\n",
       "      <td>2015-05-07 19:52:06.0000003</td>\n",
       "      <td>7.5</td>\n",
       "      <td>2015-05-07 19:52:06 UTC</td>\n",
       "      <td>-73.999817</td>\n",
       "      <td>40.738354</td>\n",
       "      <td>-73.999512</td>\n",
       "      <td>40.723217</td>\n",
       "      <td>1</td>\n",
       "    </tr>\n",
       "    <tr>\n",
       "      <th>1</th>\n",
       "      <td>27835199</td>\n",
       "      <td>2009-07-17 20:04:56.0000002</td>\n",
       "      <td>7.7</td>\n",
       "      <td>2009-07-17 20:04:56 UTC</td>\n",
       "      <td>-73.994355</td>\n",
       "      <td>40.728225</td>\n",
       "      <td>-73.994710</td>\n",
       "      <td>40.750325</td>\n",
       "      <td>1</td>\n",
       "    </tr>\n",
       "    <tr>\n",
       "      <th>2</th>\n",
       "      <td>44984355</td>\n",
       "      <td>2009-08-24 21:45:00.00000061</td>\n",
       "      <td>12.9</td>\n",
       "      <td>2009-08-24 21:45:00 UTC</td>\n",
       "      <td>-74.005043</td>\n",
       "      <td>40.740770</td>\n",
       "      <td>-73.962565</td>\n",
       "      <td>40.772647</td>\n",
       "      <td>1</td>\n",
       "    </tr>\n",
       "    <tr>\n",
       "      <th>3</th>\n",
       "      <td>25894730</td>\n",
       "      <td>2009-06-26 08:22:21.0000001</td>\n",
       "      <td>5.3</td>\n",
       "      <td>2009-06-26 08:22:21 UTC</td>\n",
       "      <td>-73.976124</td>\n",
       "      <td>40.790844</td>\n",
       "      <td>-73.965316</td>\n",
       "      <td>40.803349</td>\n",
       "      <td>3</td>\n",
       "    </tr>\n",
       "    <tr>\n",
       "      <th>4</th>\n",
       "      <td>17610152</td>\n",
       "      <td>2014-08-28 17:47:00.000000188</td>\n",
       "      <td>16.0</td>\n",
       "      <td>2014-08-28 17:47:00 UTC</td>\n",
       "      <td>-73.925023</td>\n",
       "      <td>40.744085</td>\n",
       "      <td>-73.973082</td>\n",
       "      <td>40.761247</td>\n",
       "      <td>5</td>\n",
       "    </tr>\n",
       "  </tbody>\n",
       "</table>\n",
       "</div>"
      ],
      "text/plain": [
       "   Unnamed: 0                            key  fare_amount  \\\n",
       "0    24238194    2015-05-07 19:52:06.0000003          7.5   \n",
       "1    27835199    2009-07-17 20:04:56.0000002          7.7   \n",
       "2    44984355   2009-08-24 21:45:00.00000061         12.9   \n",
       "3    25894730    2009-06-26 08:22:21.0000001          5.3   \n",
       "4    17610152  2014-08-28 17:47:00.000000188         16.0   \n",
       "\n",
       "           pickup_datetime  pickup_longitude  pickup_latitude  \\\n",
       "0  2015-05-07 19:52:06 UTC        -73.999817        40.738354   \n",
       "1  2009-07-17 20:04:56 UTC        -73.994355        40.728225   \n",
       "2  2009-08-24 21:45:00 UTC        -74.005043        40.740770   \n",
       "3  2009-06-26 08:22:21 UTC        -73.976124        40.790844   \n",
       "4  2014-08-28 17:47:00 UTC        -73.925023        40.744085   \n",
       "\n",
       "   dropoff_longitude  dropoff_latitude  passenger_count  \n",
       "0         -73.999512         40.723217                1  \n",
       "1         -73.994710         40.750325                1  \n",
       "2         -73.962565         40.772647                1  \n",
       "3         -73.965316         40.803349                3  \n",
       "4         -73.973082         40.761247                5  "
      ]
     },
     "execution_count": 175,
     "metadata": {},
     "output_type": "execute_result"
    }
   ],
   "source": [
    "df = pd.read_csv('uber.csv')\n",
    "df.head()"
   ]
  },
  {
   "cell_type": "code",
   "execution_count": 176,
   "id": "9660ecf1",
   "metadata": {},
   "outputs": [],
   "source": [
    "df.drop(['Unnamed: 0', 'key'], axis=1, inplace=True)"
   ]
  },
  {
   "cell_type": "code",
   "execution_count": 177,
   "id": "d7a0bf57",
   "metadata": {},
   "outputs": [
    {
     "name": "stdout",
     "output_type": "stream",
     "text": [
      "<class 'pandas.core.frame.DataFrame'>\n",
      "RangeIndex: 200000 entries, 0 to 199999\n",
      "Data columns (total 7 columns):\n",
      " #   Column             Non-Null Count   Dtype  \n",
      "---  ------             --------------   -----  \n",
      " 0   fare_amount        200000 non-null  float64\n",
      " 1   pickup_datetime    200000 non-null  object \n",
      " 2   pickup_longitude   200000 non-null  float64\n",
      " 3   pickup_latitude    200000 non-null  float64\n",
      " 4   dropoff_longitude  199999 non-null  float64\n",
      " 5   dropoff_latitude   199999 non-null  float64\n",
      " 6   passenger_count    200000 non-null  int64  \n",
      "dtypes: float64(5), int64(1), object(1)\n",
      "memory usage: 10.7+ MB\n"
     ]
    }
   ],
   "source": [
    "df.info()"
   ]
  },
  {
   "cell_type": "code",
   "execution_count": 178,
   "id": "c636954a",
   "metadata": {},
   "outputs": [
    {
     "data": {
      "text/plain": [
       "Index(['fare_amount', 'pickup_datetime', 'pickup_longitude', 'pickup_latitude',\n",
       "       'dropoff_longitude', 'dropoff_latitude', 'passenger_count'],\n",
       "      dtype='object')"
      ]
     },
     "execution_count": 178,
     "metadata": {},
     "output_type": "execute_result"
    }
   ],
   "source": [
    "df.columns"
   ]
  },
  {
   "cell_type": "code",
   "execution_count": 179,
   "id": "b111dfb5",
   "metadata": {},
   "outputs": [
    {
     "data": {
      "text/html": [
       "<div>\n",
       "<style scoped>\n",
       "    .dataframe tbody tr th:only-of-type {\n",
       "        vertical-align: middle;\n",
       "    }\n",
       "\n",
       "    .dataframe tbody tr th {\n",
       "        vertical-align: top;\n",
       "    }\n",
       "\n",
       "    .dataframe thead th {\n",
       "        text-align: right;\n",
       "    }\n",
       "</style>\n",
       "<table border=\"1\" class=\"dataframe\">\n",
       "  <thead>\n",
       "    <tr style=\"text-align: right;\">\n",
       "      <th></th>\n",
       "      <th>fare_amount</th>\n",
       "      <th>pickup_longitude</th>\n",
       "      <th>pickup_latitude</th>\n",
       "      <th>dropoff_longitude</th>\n",
       "      <th>dropoff_latitude</th>\n",
       "      <th>passenger_count</th>\n",
       "    </tr>\n",
       "  </thead>\n",
       "  <tbody>\n",
       "    <tr>\n",
       "      <th>count</th>\n",
       "      <td>200000.000000</td>\n",
       "      <td>200000.000000</td>\n",
       "      <td>200000.000000</td>\n",
       "      <td>199999.000000</td>\n",
       "      <td>199999.000000</td>\n",
       "      <td>200000.000000</td>\n",
       "    </tr>\n",
       "    <tr>\n",
       "      <th>mean</th>\n",
       "      <td>11.359955</td>\n",
       "      <td>-72.527638</td>\n",
       "      <td>39.935885</td>\n",
       "      <td>-72.525292</td>\n",
       "      <td>39.923890</td>\n",
       "      <td>1.684535</td>\n",
       "    </tr>\n",
       "    <tr>\n",
       "      <th>std</th>\n",
       "      <td>9.901776</td>\n",
       "      <td>11.437787</td>\n",
       "      <td>7.720539</td>\n",
       "      <td>13.117408</td>\n",
       "      <td>6.794829</td>\n",
       "      <td>1.385997</td>\n",
       "    </tr>\n",
       "    <tr>\n",
       "      <th>min</th>\n",
       "      <td>-52.000000</td>\n",
       "      <td>-1340.648410</td>\n",
       "      <td>-74.015515</td>\n",
       "      <td>-3356.666300</td>\n",
       "      <td>-881.985513</td>\n",
       "      <td>0.000000</td>\n",
       "    </tr>\n",
       "    <tr>\n",
       "      <th>25%</th>\n",
       "      <td>6.000000</td>\n",
       "      <td>-73.992065</td>\n",
       "      <td>40.734796</td>\n",
       "      <td>-73.991407</td>\n",
       "      <td>40.733823</td>\n",
       "      <td>1.000000</td>\n",
       "    </tr>\n",
       "    <tr>\n",
       "      <th>50%</th>\n",
       "      <td>8.500000</td>\n",
       "      <td>-73.981823</td>\n",
       "      <td>40.752592</td>\n",
       "      <td>-73.980093</td>\n",
       "      <td>40.753042</td>\n",
       "      <td>1.000000</td>\n",
       "    </tr>\n",
       "    <tr>\n",
       "      <th>75%</th>\n",
       "      <td>12.500000</td>\n",
       "      <td>-73.967154</td>\n",
       "      <td>40.767158</td>\n",
       "      <td>-73.963658</td>\n",
       "      <td>40.768001</td>\n",
       "      <td>2.000000</td>\n",
       "    </tr>\n",
       "    <tr>\n",
       "      <th>max</th>\n",
       "      <td>499.000000</td>\n",
       "      <td>57.418457</td>\n",
       "      <td>1644.421482</td>\n",
       "      <td>1153.572603</td>\n",
       "      <td>872.697628</td>\n",
       "      <td>208.000000</td>\n",
       "    </tr>\n",
       "  </tbody>\n",
       "</table>\n",
       "</div>"
      ],
      "text/plain": [
       "         fare_amount  pickup_longitude  pickup_latitude  dropoff_longitude  \\\n",
       "count  200000.000000     200000.000000    200000.000000      199999.000000   \n",
       "mean       11.359955        -72.527638        39.935885         -72.525292   \n",
       "std         9.901776         11.437787         7.720539          13.117408   \n",
       "min       -52.000000      -1340.648410       -74.015515       -3356.666300   \n",
       "25%         6.000000        -73.992065        40.734796         -73.991407   \n",
       "50%         8.500000        -73.981823        40.752592         -73.980093   \n",
       "75%        12.500000        -73.967154        40.767158         -73.963658   \n",
       "max       499.000000         57.418457      1644.421482        1153.572603   \n",
       "\n",
       "       dropoff_latitude  passenger_count  \n",
       "count     199999.000000    200000.000000  \n",
       "mean          39.923890         1.684535  \n",
       "std            6.794829         1.385997  \n",
       "min         -881.985513         0.000000  \n",
       "25%           40.733823         1.000000  \n",
       "50%           40.753042         1.000000  \n",
       "75%           40.768001         2.000000  \n",
       "max          872.697628       208.000000  "
      ]
     },
     "execution_count": 179,
     "metadata": {},
     "output_type": "execute_result"
    }
   ],
   "source": [
    "df.describe()"
   ]
  },
  {
   "cell_type": "code",
   "execution_count": 180,
   "id": "e035b3bf",
   "metadata": {},
   "outputs": [
    {
     "ename": "NameError",
     "evalue": "name 'p' is not defined",
     "output_type": "error",
     "traceback": [
      "\u001b[1;31m---------------------------------------------------------------------------\u001b[0m",
      "\u001b[1;31mNameError\u001b[0m                                 Traceback (most recent call last)",
      "Cell \u001b[1;32mIn[180], line 1\u001b[0m\n\u001b[1;32m----> 1\u001b[0m \u001b[43mp\u001b[49m\n",
      "\u001b[1;31mNameError\u001b[0m: name 'p' is not defined"
     ]
    }
   ],
   "source": [
    "p"
   ]
  },
  {
   "cell_type": "code",
   "execution_count": 181,
   "id": "4ec0fe6a",
   "metadata": {},
   "outputs": [
    {
     "data": {
      "text/html": [
       "<div>\n",
       "<style scoped>\n",
       "    .dataframe tbody tr th:only-of-type {\n",
       "        vertical-align: middle;\n",
       "    }\n",
       "\n",
       "    .dataframe tbody tr th {\n",
       "        vertical-align: top;\n",
       "    }\n",
       "\n",
       "    .dataframe thead th {\n",
       "        text-align: right;\n",
       "    }\n",
       "</style>\n",
       "<table border=\"1\" class=\"dataframe\">\n",
       "  <thead>\n",
       "    <tr style=\"text-align: right;\">\n",
       "      <th></th>\n",
       "      <th>fare_amount</th>\n",
       "      <th>pickup_datetime</th>\n",
       "      <th>pickup_longitude</th>\n",
       "      <th>pickup_latitude</th>\n",
       "      <th>dropoff_longitude</th>\n",
       "      <th>dropoff_latitude</th>\n",
       "      <th>passenger_count</th>\n",
       "    </tr>\n",
       "  </thead>\n",
       "  <tbody>\n",
       "    <tr>\n",
       "      <th>20744</th>\n",
       "      <td>0.00</td>\n",
       "      <td>2015-04-22 23:25:07 UTC</td>\n",
       "      <td>-73.658897</td>\n",
       "      <td>40.805199</td>\n",
       "      <td>-73.658897</td>\n",
       "      <td>40.805199</td>\n",
       "      <td>1</td>\n",
       "    </tr>\n",
       "    <tr>\n",
       "      <th>22182</th>\n",
       "      <td>0.00</td>\n",
       "      <td>2010-03-20 02:59:51 UTC</td>\n",
       "      <td>-73.994366</td>\n",
       "      <td>40.755395</td>\n",
       "      <td>-73.998718</td>\n",
       "      <td>40.854853</td>\n",
       "      <td>2</td>\n",
       "    </tr>\n",
       "    <tr>\n",
       "      <th>63395</th>\n",
       "      <td>-5.00</td>\n",
       "      <td>2015-03-03 23:07:41 UTC</td>\n",
       "      <td>-73.992249</td>\n",
       "      <td>40.748936</td>\n",
       "      <td>-73.988518</td>\n",
       "      <td>40.748180</td>\n",
       "      <td>1</td>\n",
       "    </tr>\n",
       "    <tr>\n",
       "      <th>71246</th>\n",
       "      <td>-3.30</td>\n",
       "      <td>2010-02-11 21:47:10 UTC</td>\n",
       "      <td>-73.952725</td>\n",
       "      <td>40.768235</td>\n",
       "      <td>-73.949928</td>\n",
       "      <td>40.772208</td>\n",
       "      <td>2</td>\n",
       "    </tr>\n",
       "    <tr>\n",
       "      <th>79903</th>\n",
       "      <td>-3.50</td>\n",
       "      <td>2015-05-01 14:43:02 UTC</td>\n",
       "      <td>-73.982430</td>\n",
       "      <td>40.775024</td>\n",
       "      <td>-73.981750</td>\n",
       "      <td>40.778439</td>\n",
       "      <td>1</td>\n",
       "    </tr>\n",
       "    <tr>\n",
       "      <th>87467</th>\n",
       "      <td>0.00</td>\n",
       "      <td>2015-01-04 03:51:13 UTC</td>\n",
       "      <td>-73.969475</td>\n",
       "      <td>40.807503</td>\n",
       "      <td>0.000000</td>\n",
       "      <td>0.000000</td>\n",
       "      <td>2</td>\n",
       "    </tr>\n",
       "    <tr>\n",
       "      <th>89322</th>\n",
       "      <td>-49.57</td>\n",
       "      <td>2010-03-09 08:26:10 UTC</td>\n",
       "      <td>-73.972772</td>\n",
       "      <td>40.785657</td>\n",
       "      <td>-73.972867</td>\n",
       "      <td>40.785500</td>\n",
       "      <td>5</td>\n",
       "    </tr>\n",
       "    <tr>\n",
       "      <th>92063</th>\n",
       "      <td>-23.70</td>\n",
       "      <td>2010-03-12 08:49:10 UTC</td>\n",
       "      <td>-73.952740</td>\n",
       "      <td>40.768233</td>\n",
       "      <td>-74.007028</td>\n",
       "      <td>40.707338</td>\n",
       "      <td>3</td>\n",
       "    </tr>\n",
       "    <tr>\n",
       "      <th>98875</th>\n",
       "      <td>-52.00</td>\n",
       "      <td>2015-03-20 21:31:14 UTC</td>\n",
       "      <td>-74.000359</td>\n",
       "      <td>40.728729</td>\n",
       "      <td>-74.005699</td>\n",
       "      <td>40.728680</td>\n",
       "      <td>5</td>\n",
       "    </tr>\n",
       "    <tr>\n",
       "      <th>104080</th>\n",
       "      <td>-7.30</td>\n",
       "      <td>2010-03-09 20:25:10 UTC</td>\n",
       "      <td>-73.952623</td>\n",
       "      <td>40.766942</td>\n",
       "      <td>-73.953787</td>\n",
       "      <td>40.784882</td>\n",
       "      <td>1</td>\n",
       "    </tr>\n",
       "    <tr>\n",
       "      <th>111589</th>\n",
       "      <td>-52.00</td>\n",
       "      <td>2015-02-23 19:26:44 UTC</td>\n",
       "      <td>-73.984665</td>\n",
       "      <td>40.759026</td>\n",
       "      <td>0.000000</td>\n",
       "      <td>0.000000</td>\n",
       "      <td>5</td>\n",
       "    </tr>\n",
       "    <tr>\n",
       "      <th>139272</th>\n",
       "      <td>-6.90</td>\n",
       "      <td>2010-02-23 18:52:10 UTC</td>\n",
       "      <td>-73.988727</td>\n",
       "      <td>40.736445</td>\n",
       "      <td>-73.977622</td>\n",
       "      <td>40.750487</td>\n",
       "      <td>1</td>\n",
       "    </tr>\n",
       "    <tr>\n",
       "      <th>148803</th>\n",
       "      <td>-5.70</td>\n",
       "      <td>2010-02-12 10:50:10 UTC</td>\n",
       "      <td>-73.977300</td>\n",
       "      <td>40.742783</td>\n",
       "      <td>-73.988837</td>\n",
       "      <td>40.747465</td>\n",
       "      <td>3</td>\n",
       "    </tr>\n",
       "    <tr>\n",
       "      <th>150301</th>\n",
       "      <td>-3.00</td>\n",
       "      <td>2015-06-18 07:41:12 UTC</td>\n",
       "      <td>-74.004646</td>\n",
       "      <td>40.707355</td>\n",
       "      <td>-74.004013</td>\n",
       "      <td>40.707699</td>\n",
       "      <td>1</td>\n",
       "    </tr>\n",
       "    <tr>\n",
       "      <th>151681</th>\n",
       "      <td>-10.90</td>\n",
       "      <td>2010-02-17 05:46:10 UTC</td>\n",
       "      <td>-73.964257</td>\n",
       "      <td>40.760630</td>\n",
       "      <td>-73.994222</td>\n",
       "      <td>40.761533</td>\n",
       "      <td>1</td>\n",
       "    </tr>\n",
       "    <tr>\n",
       "      <th>156738</th>\n",
       "      <td>0.00</td>\n",
       "      <td>2015-02-17 08:48:08 UTC</td>\n",
       "      <td>-73.937714</td>\n",
       "      <td>40.758541</td>\n",
       "      <td>-73.937721</td>\n",
       "      <td>40.758541</td>\n",
       "      <td>1</td>\n",
       "    </tr>\n",
       "    <tr>\n",
       "      <th>157412</th>\n",
       "      <td>-3.50</td>\n",
       "      <td>2015-05-06 03:47:38 UTC</td>\n",
       "      <td>-73.986084</td>\n",
       "      <td>40.762146</td>\n",
       "      <td>-73.980476</td>\n",
       "      <td>40.759823</td>\n",
       "      <td>1</td>\n",
       "    </tr>\n",
       "    <tr>\n",
       "      <th>164056</th>\n",
       "      <td>-50.50</td>\n",
       "      <td>2010-03-16 15:27:10 UTC</td>\n",
       "      <td>-73.784868</td>\n",
       "      <td>40.648677</td>\n",
       "      <td>-73.976975</td>\n",
       "      <td>40.763522</td>\n",
       "      <td>3</td>\n",
       "    </tr>\n",
       "    <tr>\n",
       "      <th>179111</th>\n",
       "      <td>-3.50</td>\n",
       "      <td>2015-02-12 22:53:28 UTC</td>\n",
       "      <td>-73.989059</td>\n",
       "      <td>40.760181</td>\n",
       "      <td>-73.986649</td>\n",
       "      <td>40.761829</td>\n",
       "      <td>1</td>\n",
       "    </tr>\n",
       "    <tr>\n",
       "      <th>180444</th>\n",
       "      <td>-3.00</td>\n",
       "      <td>2015-05-10 04:26:03 UTC</td>\n",
       "      <td>-73.983727</td>\n",
       "      <td>40.725910</td>\n",
       "      <td>-73.986099</td>\n",
       "      <td>40.722450</td>\n",
       "      <td>2</td>\n",
       "    </tr>\n",
       "    <tr>\n",
       "      <th>190925</th>\n",
       "      <td>-5.50</td>\n",
       "      <td>2015-05-01 23:25:34 UTC</td>\n",
       "      <td>-73.988701</td>\n",
       "      <td>40.742649</td>\n",
       "      <td>-73.985924</td>\n",
       "      <td>40.735001</td>\n",
       "      <td>1</td>\n",
       "    </tr>\n",
       "    <tr>\n",
       "      <th>197172</th>\n",
       "      <td>0.00</td>\n",
       "      <td>2015-02-13 07:35:32 UTC</td>\n",
       "      <td>0.000000</td>\n",
       "      <td>0.000000</td>\n",
       "      <td>0.000000</td>\n",
       "      <td>0.000000</td>\n",
       "      <td>5</td>\n",
       "    </tr>\n",
       "  </tbody>\n",
       "</table>\n",
       "</div>"
      ],
      "text/plain": [
       "        fare_amount          pickup_datetime  pickup_longitude  \\\n",
       "20744          0.00  2015-04-22 23:25:07 UTC        -73.658897   \n",
       "22182          0.00  2010-03-20 02:59:51 UTC        -73.994366   \n",
       "63395         -5.00  2015-03-03 23:07:41 UTC        -73.992249   \n",
       "71246         -3.30  2010-02-11 21:47:10 UTC        -73.952725   \n",
       "79903         -3.50  2015-05-01 14:43:02 UTC        -73.982430   \n",
       "87467          0.00  2015-01-04 03:51:13 UTC        -73.969475   \n",
       "89322        -49.57  2010-03-09 08:26:10 UTC        -73.972772   \n",
       "92063        -23.70  2010-03-12 08:49:10 UTC        -73.952740   \n",
       "98875        -52.00  2015-03-20 21:31:14 UTC        -74.000359   \n",
       "104080        -7.30  2010-03-09 20:25:10 UTC        -73.952623   \n",
       "111589       -52.00  2015-02-23 19:26:44 UTC        -73.984665   \n",
       "139272        -6.90  2010-02-23 18:52:10 UTC        -73.988727   \n",
       "148803        -5.70  2010-02-12 10:50:10 UTC        -73.977300   \n",
       "150301        -3.00  2015-06-18 07:41:12 UTC        -74.004646   \n",
       "151681       -10.90  2010-02-17 05:46:10 UTC        -73.964257   \n",
       "156738         0.00  2015-02-17 08:48:08 UTC        -73.937714   \n",
       "157412        -3.50  2015-05-06 03:47:38 UTC        -73.986084   \n",
       "164056       -50.50  2010-03-16 15:27:10 UTC        -73.784868   \n",
       "179111        -3.50  2015-02-12 22:53:28 UTC        -73.989059   \n",
       "180444        -3.00  2015-05-10 04:26:03 UTC        -73.983727   \n",
       "190925        -5.50  2015-05-01 23:25:34 UTC        -73.988701   \n",
       "197172         0.00  2015-02-13 07:35:32 UTC          0.000000   \n",
       "\n",
       "        pickup_latitude  dropoff_longitude  dropoff_latitude  passenger_count  \n",
       "20744         40.805199         -73.658897         40.805199                1  \n",
       "22182         40.755395         -73.998718         40.854853                2  \n",
       "63395         40.748936         -73.988518         40.748180                1  \n",
       "71246         40.768235         -73.949928         40.772208                2  \n",
       "79903         40.775024         -73.981750         40.778439                1  \n",
       "87467         40.807503           0.000000          0.000000                2  \n",
       "89322         40.785657         -73.972867         40.785500                5  \n",
       "92063         40.768233         -74.007028         40.707338                3  \n",
       "98875         40.728729         -74.005699         40.728680                5  \n",
       "104080        40.766942         -73.953787         40.784882                1  \n",
       "111589        40.759026           0.000000          0.000000                5  \n",
       "139272        40.736445         -73.977622         40.750487                1  \n",
       "148803        40.742783         -73.988837         40.747465                3  \n",
       "150301        40.707355         -74.004013         40.707699                1  \n",
       "151681        40.760630         -73.994222         40.761533                1  \n",
       "156738        40.758541         -73.937721         40.758541                1  \n",
       "157412        40.762146         -73.980476         40.759823                1  \n",
       "164056        40.648677         -73.976975         40.763522                3  \n",
       "179111        40.760181         -73.986649         40.761829                1  \n",
       "180444        40.725910         -73.986099         40.722450                2  \n",
       "190925        40.742649         -73.985924         40.735001                1  \n",
       "197172         0.000000           0.000000          0.000000                5  "
      ]
     },
     "execution_count": 181,
     "metadata": {},
     "output_type": "execute_result"
    }
   ],
   "source": [
    "df[df['fare_amount'].values <= 0]"
   ]
  },
  {
   "cell_type": "code",
   "execution_count": 182,
   "id": "ba740121",
   "metadata": {},
   "outputs": [],
   "source": [
    "df.drop(df[df['fare_amount'].values <= 0].index  , inplace= True   )"
   ]
  },
  {
   "cell_type": "code",
   "execution_count": 183,
   "id": "9ed24b15",
   "metadata": {},
   "outputs": [
    {
     "data": {
      "text/html": [
       "<div>\n",
       "<style scoped>\n",
       "    .dataframe tbody tr th:only-of-type {\n",
       "        vertical-align: middle;\n",
       "    }\n",
       "\n",
       "    .dataframe tbody tr th {\n",
       "        vertical-align: top;\n",
       "    }\n",
       "\n",
       "    .dataframe thead th {\n",
       "        text-align: right;\n",
       "    }\n",
       "</style>\n",
       "<table border=\"1\" class=\"dataframe\">\n",
       "  <thead>\n",
       "    <tr style=\"text-align: right;\">\n",
       "      <th></th>\n",
       "      <th>fare_amount</th>\n",
       "      <th>pickup_datetime</th>\n",
       "      <th>pickup_longitude</th>\n",
       "      <th>pickup_latitude</th>\n",
       "      <th>dropoff_longitude</th>\n",
       "      <th>dropoff_latitude</th>\n",
       "      <th>passenger_count</th>\n",
       "    </tr>\n",
       "  </thead>\n",
       "  <tbody>\n",
       "  </tbody>\n",
       "</table>\n",
       "</div>"
      ],
      "text/plain": [
       "Empty DataFrame\n",
       "Columns: [fare_amount, pickup_datetime, pickup_longitude, pickup_latitude, dropoff_longitude, dropoff_latitude, passenger_count]\n",
       "Index: []"
      ]
     },
     "execution_count": 183,
     "metadata": {},
     "output_type": "execute_result"
    }
   ],
   "source": [
    "df[df['fare_amount'].values <= 0]"
   ]
  },
  {
   "cell_type": "code",
   "execution_count": 184,
   "id": "271aa160",
   "metadata": {},
   "outputs": [
    {
     "data": {
      "text/plain": [
       "<Axes: >"
      ]
     },
     "execution_count": 184,
     "metadata": {},
     "output_type": "execute_result"
    },
    {
     "data": {
      "image/png": "[encoded data removed]",
      "text/plain": [
       "<Figure size 640x480 with 1 Axes>"
      ]
     },
     "metadata": {},
     "output_type": "display_data"
    }
   ],
   "source": [
    "sns.boxplot(df['passenger_count']) "
   ]
  },
  {
   "cell_type": "code",
   "execution_count": 185,
   "id": "68d03021",
   "metadata": {},
   "outputs": [
    {
     "data": {
      "text/html": [
       "<div>\n",
       "<style scoped>\n",
       "    .dataframe tbody tr th:only-of-type {\n",
       "        vertical-align: middle;\n",
       "    }\n",
       "\n",
       "    .dataframe tbody tr th {\n",
       "        vertical-align: top;\n",
       "    }\n",
       "\n",
       "    .dataframe thead th {\n",
       "        text-align: right;\n",
       "    }\n",
       "</style>\n",
       "<table border=\"1\" class=\"dataframe\">\n",
       "  <thead>\n",
       "    <tr style=\"text-align: right;\">\n",
       "      <th></th>\n",
       "      <th>fare_amount</th>\n",
       "      <th>pickup_datetime</th>\n",
       "      <th>pickup_longitude</th>\n",
       "      <th>pickup_latitude</th>\n",
       "      <th>dropoff_longitude</th>\n",
       "      <th>dropoff_latitude</th>\n",
       "      <th>passenger_count</th>\n",
       "    </tr>\n",
       "  </thead>\n",
       "  <tbody>\n",
       "    <tr>\n",
       "      <th>113038</th>\n",
       "      <td>11.7</td>\n",
       "      <td>2010-12-28 08:20:00 UTC</td>\n",
       "      <td>-73.937795</td>\n",
       "      <td>40.758498</td>\n",
       "      <td>-73.937835</td>\n",
       "      <td>40.758415</td>\n",
       "      <td>208</td>\n",
       "    </tr>\n",
       "  </tbody>\n",
       "</table>\n",
       "</div>"
      ],
      "text/plain": [
       "        fare_amount          pickup_datetime  pickup_longitude  \\\n",
       "113038         11.7  2010-12-28 08:20:00 UTC        -73.937795   \n",
       "\n",
       "        pickup_latitude  dropoff_longitude  dropoff_latitude  passenger_count  \n",
       "113038        40.758498         -73.937835         40.758415              208  "
      ]
     },
     "execution_count": 185,
     "metadata": {},
     "output_type": "execute_result"
    }
   ],
   "source": [
    "df[df['passenger_count'] >6] "
   ]
  },
  {
   "cell_type": "code",
   "execution_count": 186,
   "id": "d9f57681",
   "metadata": {},
   "outputs": [],
   "source": [
    "df.drop(df[df['passenger_count'] >6].index, inplace=True)"
   ]
  },
  {
   "cell_type": "code",
   "execution_count": 187,
   "id": "4c89efdc",
   "metadata": {},
   "outputs": [
    {
     "data": {
      "text/html": [
       "<div>\n",
       "<style scoped>\n",
       "    .dataframe tbody tr th:only-of-type {\n",
       "        vertical-align: middle;\n",
       "    }\n",
       "\n",
       "    .dataframe tbody tr th {\n",
       "        vertical-align: top;\n",
       "    }\n",
       "\n",
       "    .dataframe thead th {\n",
       "        text-align: right;\n",
       "    }\n",
       "</style>\n",
       "<table border=\"1\" class=\"dataframe\">\n",
       "  <thead>\n",
       "    <tr style=\"text-align: right;\">\n",
       "      <th></th>\n",
       "      <th>fare_amount</th>\n",
       "      <th>pickup_datetime</th>\n",
       "      <th>pickup_longitude</th>\n",
       "      <th>pickup_latitude</th>\n",
       "      <th>dropoff_longitude</th>\n",
       "      <th>dropoff_latitude</th>\n",
       "      <th>passenger_count</th>\n",
       "    </tr>\n",
       "  </thead>\n",
       "  <tbody>\n",
       "  </tbody>\n",
       "</table>\n",
       "</div>"
      ],
      "text/plain": [
       "Empty DataFrame\n",
       "Columns: [fare_amount, pickup_datetime, pickup_longitude, pickup_latitude, dropoff_longitude, dropoff_latitude, passenger_count]\n",
       "Index: []"
      ]
     },
     "execution_count": 187,
     "metadata": {},
     "output_type": "execute_result"
    }
   ],
   "source": [
    "df[df['passenger_count'] >6] "
   ]
  },
  {
   "cell_type": "code",
   "execution_count": 188,
   "id": "4456feea",
   "metadata": {},
   "outputs": [
    {
     "data": {
      "text/plain": [
       "<Axes: >"
      ]
     },
     "execution_count": 188,
     "metadata": {},
     "output_type": "execute_result"
    },
    {
     "data": {
      "image/png": "[encoded data removed]",
      "text/plain": [
       "<Figure size 640x480 with 1 Axes>"
      ]
     },
     "metadata": {},
     "output_type": "display_data"
    }
   ],
   "source": [
    "sns.boxplot(df['pickup_latitude']) "
   ]
  },
  {
   "cell_type": "code",
   "execution_count": 189,
   "id": "f1eb2c87",
   "metadata": {},
   "outputs": [
    {
     "data": {
      "text/html": [
       "<div>\n",
       "<style scoped>\n",
       "    .dataframe tbody tr th:only-of-type {\n",
       "        vertical-align: middle;\n",
       "    }\n",
       "\n",
       "    .dataframe tbody tr th {\n",
       "        vertical-align: top;\n",
       "    }\n",
       "\n",
       "    .dataframe thead th {\n",
       "        text-align: right;\n",
       "    }\n",
       "</style>\n",
       "<table border=\"1\" class=\"dataframe\">\n",
       "  <thead>\n",
       "    <tr style=\"text-align: right;\">\n",
       "      <th></th>\n",
       "      <th>fare_amount</th>\n",
       "      <th>pickup_datetime</th>\n",
       "      <th>pickup_longitude</th>\n",
       "      <th>pickup_latitude</th>\n",
       "      <th>dropoff_longitude</th>\n",
       "      <th>dropoff_latitude</th>\n",
       "      <th>passenger_count</th>\n",
       "    </tr>\n",
       "  </thead>\n",
       "  <tbody>\n",
       "    <tr>\n",
       "      <th>42051</th>\n",
       "      <td>12.5</td>\n",
       "      <td>2012-11-27 23:47:00 UTC</td>\n",
       "      <td>-73.987467</td>\n",
       "      <td>40.729282</td>\n",
       "      <td>-73.984002</td>\n",
       "      <td>40.764402</td>\n",
       "      <td>5</td>\n",
       "    </tr>\n",
       "  </tbody>\n",
       "</table>\n",
       "</div>"
      ],
      "text/plain": [
       "       fare_amount          pickup_datetime  pickup_longitude  \\\n",
       "42051         12.5  2012-11-27 23:47:00 UTC        -73.987467   \n",
       "\n",
       "       pickup_latitude  dropoff_longitude  dropoff_latitude  passenger_count  \n",
       "42051        40.729282         -73.984002         40.764402                5  "
      ]
     },
     "execution_count": 189,
     "metadata": {},
     "output_type": "execute_result"
    }
   ],
   "source": [
    "df.sample()"
   ]
  },
  {
   "cell_type": "code",
   "execution_count": 190,
   "id": "43e60bff",
   "metadata": {},
   "outputs": [],
   "source": [
    "def filter_latitude(val):\n",
    "    if val < -90 or val > 90:\n",
    "        return np.nan\n",
    "    else:\n",
    "        return val\n",
    "\n",
    "def filter_longitude(val):\n",
    "    if val < -180 or val > 180:\n",
    "        return np.nan\n",
    "    else:\n",
    "        return val"
   ]
  },
  {
   "cell_type": "code",
   "execution_count": 191,
   "id": "77a65aad",
   "metadata": {},
   "outputs": [],
   "source": [
    "df['pickup_longitude'] = df['pickup_longitude'].apply(filter_longitude)\n",
    "df['pickup_latitude'] = df['pickup_latitude'].apply(filter_latitude)\n",
    "df['dropoff_longitude'] = df['dropoff_longitude'].apply(filter_longitude)\n",
    "df['dropoff_latitude'] = df['dropoff_latitude'].apply(filter_latitude)"
   ]
  },
  {
   "cell_type": "code",
   "execution_count": 192,
   "id": "e13544bd",
   "metadata": {},
   "outputs": [
    {
     "data": {
      "text/plain": [
       "fare_amount          0\n",
       "pickup_datetime      0\n",
       "pickup_longitude     7\n",
       "pickup_latitude      4\n",
       "dropoff_longitude    4\n",
       "dropoff_latitude     4\n",
       "passenger_count      0\n",
       "dtype: int64"
      ]
     },
     "execution_count": 192,
     "metadata": {},
     "output_type": "execute_result"
    }
   ],
   "source": [
    "df.isnull().sum()"
   ]
  },
  {
   "cell_type": "code",
   "execution_count": 193,
   "id": "84860a66",
   "metadata": {},
   "outputs": [],
   "source": [
    "df.dropna(inplace=True)"
   ]
  },
  {
   "cell_type": "code",
   "execution_count": 194,
   "id": "dd9b3681",
   "metadata": {},
   "outputs": [
    {
     "data": {
      "text/plain": [
       "fare_amount          0\n",
       "pickup_datetime      0\n",
       "pickup_longitude     0\n",
       "pickup_latitude      0\n",
       "dropoff_longitude    0\n",
       "dropoff_latitude     0\n",
       "passenger_count      0\n",
       "dtype: int64"
      ]
     },
     "execution_count": 194,
     "metadata": {},
     "output_type": "execute_result"
    }
   ],
   "source": [
    "df.isnull().sum()"
   ]
  },
  {
   "cell_type": "code",
   "execution_count": 195,
   "id": "b5f23a06",
   "metadata": {},
   "outputs": [
    {
     "data": {
      "text/plain": [
       "<Axes: >"
      ]
     },
     "execution_count": 195,
     "metadata": {},
     "output_type": "execute_result"
    },
    {
     "data": {
      "image/png": "[encoded data removed]",
      "text/plain": [
       "<Figure size 640x480 with 1 Axes>"
      ]
     },
     "metadata": {},
     "output_type": "display_data"
    }
   ],
   "source": [
    "sns.boxplot(df['pickup_latitude']) "
   ]
  },
  {
   "cell_type": "code",
   "execution_count": 196,
   "id": "52fc96e0",
   "metadata": {},
   "outputs": [
    {
     "name": "stdout",
     "output_type": "stream",
     "text": [
      "Requirement already satisfied: geopy in g:\\user\\lib\\site-packages (2.4.0)\n",
      "Requirement already satisfied: geographiclib<3,>=1.52 in g:\\user\\lib\\site-packages (from geopy) (2.0)\n"
     ]
    }
   ],
   "source": [
    "!pip install geopy"
   ]
  },
  {
   "cell_type": "code",
   "execution_count": 197,
   "id": "0cd12ed8",
   "metadata": {},
   "outputs": [],
   "source": [
    "# calculate the distance between pickup and dropoff using geopy library\n",
    "from geopy.distance import great_circle\n",
    "\n",
    "def distance_km(x):\n",
    "    pickup = (x['pickup_latitude'], x['pickup_longitude'])\n",
    "    dropoff = (x['dropoff_latitude'], x['dropoff_longitude'])\n",
    "    return great_circle(pickup, dropoff).km"
   ]
  },
  {
   "cell_type": "code",
   "execution_count": 198,
   "id": "ac269693",
   "metadata": {},
   "outputs": [],
   "source": [
    "df['distance_km'] = df.apply(lambda x: distance_km(x), axis=1)"
   ]
  },
  {
   "cell_type": "code",
   "execution_count": 199,
   "id": "2913a22c",
   "metadata": {},
   "outputs": [],
   "source": [
    "df.drop(['pickup_longitude', 'pickup_latitude','dropoff_longitude', 'dropoff_latitude'] , inplace=True , axis= 1)"
   ]
  },
  {
   "cell_type": "code",
   "execution_count": 200,
   "id": "ca64fe0f",
   "metadata": {},
   "outputs": [
    {
     "data": {
      "text/html": [
       "<div>\n",
       "<style scoped>\n",
       "    .dataframe tbody tr th:only-of-type {\n",
       "        vertical-align: middle;\n",
       "    }\n",
       "\n",
       "    .dataframe tbody tr th {\n",
       "        vertical-align: top;\n",
       "    }\n",
       "\n",
       "    .dataframe thead th {\n",
       "        text-align: right;\n",
       "    }\n",
       "</style>\n",
       "<table border=\"1\" class=\"dataframe\">\n",
       "  <thead>\n",
       "    <tr style=\"text-align: right;\">\n",
       "      <th></th>\n",
       "      <th>fare_amount</th>\n",
       "      <th>passenger_count</th>\n",
       "      <th>distance_km</th>\n",
       "    </tr>\n",
       "  </thead>\n",
       "  <tbody>\n",
       "    <tr>\n",
       "      <th>count</th>\n",
       "      <td>199964.000000</td>\n",
       "      <td>199964.000000</td>\n",
       "      <td>199964.000000</td>\n",
       "    </tr>\n",
       "    <tr>\n",
       "      <th>mean</th>\n",
       "      <td>11.362542</td>\n",
       "      <td>1.683458</td>\n",
       "      <td>20.475791</td>\n",
       "    </tr>\n",
       "    <tr>\n",
       "      <th>std</th>\n",
       "      <td>9.897195</td>\n",
       "      <td>1.306932</td>\n",
       "      <td>378.657163</td>\n",
       "    </tr>\n",
       "    <tr>\n",
       "      <th>min</th>\n",
       "      <td>0.010000</td>\n",
       "      <td>0.000000</td>\n",
       "      <td>0.000000</td>\n",
       "    </tr>\n",
       "    <tr>\n",
       "      <th>25%</th>\n",
       "      <td>6.000000</td>\n",
       "      <td>1.000000</td>\n",
       "      <td>1.215337</td>\n",
       "    </tr>\n",
       "    <tr>\n",
       "      <th>50%</th>\n",
       "      <td>8.500000</td>\n",
       "      <td>1.000000</td>\n",
       "      <td>2.120977</td>\n",
       "    </tr>\n",
       "    <tr>\n",
       "      <th>75%</th>\n",
       "      <td>12.500000</td>\n",
       "      <td>2.000000</td>\n",
       "      <td>3.874819</td>\n",
       "    </tr>\n",
       "    <tr>\n",
       "      <th>max</th>\n",
       "      <td>499.000000</td>\n",
       "      <td>6.000000</td>\n",
       "      <td>8782.911013</td>\n",
       "    </tr>\n",
       "  </tbody>\n",
       "</table>\n",
       "</div>"
      ],
      "text/plain": [
       "         fare_amount  passenger_count    distance_km\n",
       "count  199964.000000    199964.000000  199964.000000\n",
       "mean       11.362542         1.683458      20.475791\n",
       "std         9.897195         1.306932     378.657163\n",
       "min         0.010000         0.000000       0.000000\n",
       "25%         6.000000         1.000000       1.215337\n",
       "50%         8.500000         1.000000       2.120977\n",
       "75%        12.500000         2.000000       3.874819\n",
       "max       499.000000         6.000000    8782.911013"
      ]
     },
     "execution_count": 200,
     "metadata": {},
     "output_type": "execute_result"
    }
   ],
   "source": [
    "df.describe()"
   ]
  },
  {
   "cell_type": "code",
   "execution_count": 201,
   "id": "2436d0b0",
   "metadata": {},
   "outputs": [
    {
     "data": {
      "text/html": [
       "<div>\n",
       "<style scoped>\n",
       "    .dataframe tbody tr th:only-of-type {\n",
       "        vertical-align: middle;\n",
       "    }\n",
       "\n",
       "    .dataframe tbody tr th {\n",
       "        vertical-align: top;\n",
       "    }\n",
       "\n",
       "    .dataframe thead th {\n",
       "        text-align: right;\n",
       "    }\n",
       "</style>\n",
       "<table border=\"1\" class=\"dataframe\">\n",
       "  <thead>\n",
       "    <tr style=\"text-align: right;\">\n",
       "      <th></th>\n",
       "      <th>fare_amount</th>\n",
       "      <th>pickup_datetime</th>\n",
       "      <th>passenger_count</th>\n",
       "      <th>distance_km</th>\n",
       "    </tr>\n",
       "  </thead>\n",
       "  <tbody>\n",
       "    <tr>\n",
       "      <th>0</th>\n",
       "      <td>7.5</td>\n",
       "      <td>2015-05-07 19:52:06 UTC</td>\n",
       "      <td>1</td>\n",
       "      <td>1.683325</td>\n",
       "    </tr>\n",
       "    <tr>\n",
       "      <th>1</th>\n",
       "      <td>7.7</td>\n",
       "      <td>2009-07-17 20:04:56 UTC</td>\n",
       "      <td>1</td>\n",
       "      <td>2.457593</td>\n",
       "    </tr>\n",
       "    <tr>\n",
       "      <th>2</th>\n",
       "      <td>12.9</td>\n",
       "      <td>2009-08-24 21:45:00 UTC</td>\n",
       "      <td>1</td>\n",
       "      <td>5.036384</td>\n",
       "    </tr>\n",
       "    <tr>\n",
       "      <th>3</th>\n",
       "      <td>5.3</td>\n",
       "      <td>2009-06-26 08:22:21 UTC</td>\n",
       "      <td>3</td>\n",
       "      <td>1.661686</td>\n",
       "    </tr>\n",
       "    <tr>\n",
       "      <th>4</th>\n",
       "      <td>16.0</td>\n",
       "      <td>2014-08-28 17:47:00 UTC</td>\n",
       "      <td>5</td>\n",
       "      <td>4.475456</td>\n",
       "    </tr>\n",
       "    <tr>\n",
       "      <th>...</th>\n",
       "      <td>...</td>\n",
       "      <td>...</td>\n",
       "      <td>...</td>\n",
       "      <td>...</td>\n",
       "    </tr>\n",
       "    <tr>\n",
       "      <th>199995</th>\n",
       "      <td>3.0</td>\n",
       "      <td>2012-10-28 10:49:00 UTC</td>\n",
       "      <td>1</td>\n",
       "      <td>0.112210</td>\n",
       "    </tr>\n",
       "    <tr>\n",
       "      <th>199996</th>\n",
       "      <td>7.5</td>\n",
       "      <td>2014-03-14 01:09:00 UTC</td>\n",
       "      <td>1</td>\n",
       "      <td>1.875053</td>\n",
       "    </tr>\n",
       "    <tr>\n",
       "      <th>199997</th>\n",
       "      <td>30.9</td>\n",
       "      <td>2009-06-29 00:42:00 UTC</td>\n",
       "      <td>2</td>\n",
       "      <td>12.850337</td>\n",
       "    </tr>\n",
       "    <tr>\n",
       "      <th>199998</th>\n",
       "      <td>14.5</td>\n",
       "      <td>2015-05-20 14:56:25 UTC</td>\n",
       "      <td>1</td>\n",
       "      <td>3.539720</td>\n",
       "    </tr>\n",
       "    <tr>\n",
       "      <th>199999</th>\n",
       "      <td>14.1</td>\n",
       "      <td>2010-05-15 04:08:00 UTC</td>\n",
       "      <td>1</td>\n",
       "      <td>5.417791</td>\n",
       "    </tr>\n",
       "  </tbody>\n",
       "</table>\n",
       "<p>199964 rows × 4 columns</p>\n",
       "</div>"
      ],
      "text/plain": [
       "        fare_amount          pickup_datetime  passenger_count  distance_km\n",
       "0               7.5  2015-05-07 19:52:06 UTC                1     1.683325\n",
       "1               7.7  2009-07-17 20:04:56 UTC                1     2.457593\n",
       "2              12.9  2009-08-24 21:45:00 UTC                1     5.036384\n",
       "3               5.3  2009-06-26 08:22:21 UTC                3     1.661686\n",
       "4              16.0  2014-08-28 17:47:00 UTC                5     4.475456\n",
       "...             ...                      ...              ...          ...\n",
       "199995          3.0  2012-10-28 10:49:00 UTC                1     0.112210\n",
       "199996          7.5  2014-03-14 01:09:00 UTC                1     1.875053\n",
       "199997         30.9  2009-06-29 00:42:00 UTC                2    12.850337\n",
       "199998         14.5  2015-05-20 14:56:25 UTC                1     3.539720\n",
       "199999         14.1  2010-05-15 04:08:00 UTC                1     5.417791\n",
       "\n",
       "[199964 rows x 4 columns]"
      ]
     },
     "execution_count": 201,
     "metadata": {},
     "output_type": "execute_result"
    }
   ],
   "source": [
    "# df[df['distance_km']==0]\n",
    "df"
   ]
  },
  {
   "cell_type": "code",
   "execution_count": 202,
   "id": "d5c06fb4",
   "metadata": {},
   "outputs": [],
   "source": [
    "df.drop(df[df['distance_km']==0].index , inplace= True )"
   ]
  },
  {
   "cell_type": "code",
   "execution_count": 203,
   "id": "6049b356",
   "metadata": {},
   "outputs": [
    {
     "data": {
      "text/plain": [
       "<Axes: >"
      ]
     },
     "execution_count": 203,
     "metadata": {},
     "output_type": "execute_result"
    },
    {
     "data": {
      "image/png": "[encoded data removed]",
      "text/plain": [
       "<Figure size 640x480 with 1 Axes>"
      ]
     },
     "metadata": {},
     "output_type": "display_data"
    }
   ],
   "source": [
    "sns.boxplot(df)"
   ]
  },
  {
   "cell_type": "code",
   "execution_count": 204,
   "id": "462d671f",
   "metadata": {},
   "outputs": [],
   "source": [
    "## handileng the outliers with pandas\n",
    "q1 = df['distance_km'].quantile(0.25)\n",
    "q3 = df['distance_km'].quantile(0.75)\n",
    "iqr = q3 - q1\n",
    "lower =  q1 - 1.5 * iqr\n",
    "upper = q3 + 1.5 *iqr"
   ]
  },
  {
   "cell_type": "code",
   "execution_count": 205,
   "id": "713d15a9",
   "metadata": {},
   "outputs": [],
   "source": [
    "df_clean0 = df[(df['distance_km'] >= lower) & (df['distance_km']<=upper) ]"
   ]
  },
  {
   "cell_type": "code",
   "execution_count": 206,
   "id": "9142bb05",
   "metadata": {},
   "outputs": [
    {
     "data": {
      "text/html": [
       "<div>\n",
       "<style scoped>\n",
       "    .dataframe tbody tr th:only-of-type {\n",
       "        vertical-align: middle;\n",
       "    }\n",
       "\n",
       "    .dataframe tbody tr th {\n",
       "        vertical-align: top;\n",
       "    }\n",
       "\n",
       "    .dataframe thead th {\n",
       "        text-align: right;\n",
       "    }\n",
       "</style>\n",
       "<table border=\"1\" class=\"dataframe\">\n",
       "  <thead>\n",
       "    <tr style=\"text-align: right;\">\n",
       "      <th></th>\n",
       "      <th>fare_amount</th>\n",
       "      <th>passenger_count</th>\n",
       "      <th>distance_km</th>\n",
       "    </tr>\n",
       "  </thead>\n",
       "  <tbody>\n",
       "    <tr>\n",
       "      <th>count</th>\n",
       "      <td>177961.000000</td>\n",
       "      <td>177961.000000</td>\n",
       "      <td>177961.000000</td>\n",
       "    </tr>\n",
       "    <tr>\n",
       "      <th>mean</th>\n",
       "      <td>9.240175</td>\n",
       "      <td>1.682026</td>\n",
       "      <td>2.483259</td>\n",
       "    </tr>\n",
       "    <tr>\n",
       "      <th>std</th>\n",
       "      <td>5.466532</td>\n",
       "      <td>1.306509</td>\n",
       "      <td>1.688242</td>\n",
       "    </tr>\n",
       "    <tr>\n",
       "      <th>min</th>\n",
       "      <td>0.010000</td>\n",
       "      <td>0.000000</td>\n",
       "      <td>0.000084</td>\n",
       "    </tr>\n",
       "    <tr>\n",
       "      <th>25%</th>\n",
       "      <td>5.700000</td>\n",
       "      <td>1.000000</td>\n",
       "      <td>1.217376</td>\n",
       "    </tr>\n",
       "    <tr>\n",
       "      <th>50%</th>\n",
       "      <td>8.000000</td>\n",
       "      <td>1.000000</td>\n",
       "      <td>2.005922</td>\n",
       "    </tr>\n",
       "    <tr>\n",
       "      <th>75%</th>\n",
       "      <td>11.300000</td>\n",
       "      <td>2.000000</td>\n",
       "      <td>3.318405</td>\n",
       "    </tr>\n",
       "    <tr>\n",
       "      <th>max</th>\n",
       "      <td>499.000000</td>\n",
       "      <td>6.000000</td>\n",
       "      <td>7.976771</td>\n",
       "    </tr>\n",
       "  </tbody>\n",
       "</table>\n",
       "</div>"
      ],
      "text/plain": [
       "         fare_amount  passenger_count    distance_km\n",
       "count  177961.000000    177961.000000  177961.000000\n",
       "mean        9.240175         1.682026       2.483259\n",
       "std         5.466532         1.306509       1.688242\n",
       "min         0.010000         0.000000       0.000084\n",
       "25%         5.700000         1.000000       1.217376\n",
       "50%         8.000000         1.000000       2.005922\n",
       "75%        11.300000         2.000000       3.318405\n",
       "max       499.000000         6.000000       7.976771"
      ]
     },
     "execution_count": 206,
     "metadata": {},
     "output_type": "execute_result"
    }
   ],
   "source": [
    "df_clean0.describe()"
   ]
  },
  {
   "cell_type": "code",
   "execution_count": 207,
   "id": "93af58b3",
   "metadata": {},
   "outputs": [],
   "source": [
    "df_clean0.drop(df_clean0[df_clean0['distance_km'] < 1].index, inplace=True)"
   ]
  },
  {
   "cell_type": "code",
   "execution_count": 208,
   "id": "326a7320",
   "metadata": {},
   "outputs": [],
   "source": [
    "## handileng the outliers with pandas\n",
    "q1 = df['fare_amount'].quantile(0.25)\n",
    "q3 = df['fare_amount'].quantile(0.75)\n",
    "iqr = q3 - q1\n",
    "lower =  q1 - 1.5 * iqr\n",
    "upper = q3 + 1.5 *iqr"
   ]
  },
  {
   "cell_type": "code",
   "execution_count": 209,
   "id": "0d696baf",
   "metadata": {},
   "outputs": [],
   "source": [
    "df_clean = df_clean0[(df_clean0['fare_amount'] >= lower) & (df_clean0['fare_amount']<=upper) ]"
   ]
  },
  {
   "cell_type": "code",
   "execution_count": 210,
   "id": "ef5c927f",
   "metadata": {},
   "outputs": [
    {
     "data": {
      "text/plain": [
       "0"
      ]
     },
     "execution_count": 210,
     "metadata": {},
     "output_type": "execute_result"
    }
   ],
   "source": [
    "df_clean.duplicated().sum()"
   ]
  },
  {
   "cell_type": "code",
   "execution_count": 211,
   "id": "2ac6dff0",
   "metadata": {},
   "outputs": [
    {
     "data": {
      "text/plain": [
       "(144584, 4)"
      ]
     },
     "execution_count": 211,
     "metadata": {},
     "output_type": "execute_result"
    }
   ],
   "source": [
    "df_clean.shape"
   ]
  },
  {
   "cell_type": "code",
   "execution_count": 212,
   "id": "87f2d7bd",
   "metadata": {},
   "outputs": [
    {
     "data": {
      "text/plain": [
       "<Axes: >"
      ]
     },
     "execution_count": 212,
     "metadata": {},
     "output_type": "execute_result"
    },
    {
     "data": {
      "image/png": "[encoded data removed]",
      "text/plain": [
       "<Figure size 640x480 with 1 Axes>"
      ]
     },
     "metadata": {},
     "output_type": "display_data"
    }
   ],
   "source": [
    "sns.boxplot(df_clean)"
   ]
  },
  {
   "cell_type": "code",
   "execution_count": 213,
   "id": "471b16b3",
   "metadata": {},
   "outputs": [],
   "source": [
    "# convert the col pickup_datetime type to date and split it to Year and Month \n",
    "df_clean['pickup_datetime'] = pd.to_datetime(df_clean['pickup_datetime'] ) "
   ]
  },
  {
   "cell_type": "code",
   "execution_count": 214,
   "id": "f98e0787",
   "metadata": {},
   "outputs": [],
   "source": [
    "# get the day, weekday, month, year, hour from pickup_datetime\n",
    "df_clean['day'] = df_clean['pickup_datetime'].dt.day_name()\n",
    "df_clean['weekday'] = df_clean['pickup_datetime'].dt.weekday\n",
    "df_clean['month'] = df_clean['pickup_datetime'].dt.month_name()\n",
    "df_clean['year'] = df_clean['pickup_datetime'].dt.year\n",
    "df_clean['hour'] = df_clean['pickup_datetime'].dt.hour\n",
    "\n",
    "# drop pickup_datetime\n",
    "df_clean.drop('pickup_datetime', axis=1, inplace=True) "
   ]
  },
  {
   "cell_type": "code",
   "execution_count": 215,
   "id": "356b563c",
   "metadata": {},
   "outputs": [
    {
     "data": {
      "text/html": [
       "<div>\n",
       "<style scoped>\n",
       "    .dataframe tbody tr th:only-of-type {\n",
       "        vertical-align: middle;\n",
       "    }\n",
       "\n",
       "    .dataframe tbody tr th {\n",
       "        vertical-align: top;\n",
       "    }\n",
       "\n",
       "    .dataframe thead th {\n",
       "        text-align: right;\n",
       "    }\n",
       "</style>\n",
       "<table border=\"1\" class=\"dataframe\">\n",
       "  <thead>\n",
       "    <tr style=\"text-align: right;\">\n",
       "      <th></th>\n",
       "      <th>fare_amount</th>\n",
       "      <th>passenger_count</th>\n",
       "      <th>distance_km</th>\n",
       "      <th>day</th>\n",
       "      <th>weekday</th>\n",
       "      <th>month</th>\n",
       "      <th>year</th>\n",
       "      <th>hour</th>\n",
       "    </tr>\n",
       "  </thead>\n",
       "  <tbody>\n",
       "    <tr>\n",
       "      <th>0</th>\n",
       "      <td>7.5</td>\n",
       "      <td>1</td>\n",
       "      <td>1.683325</td>\n",
       "      <td>Thursday</td>\n",
       "      <td>3</td>\n",
       "      <td>May</td>\n",
       "      <td>2015</td>\n",
       "      <td>19</td>\n",
       "    </tr>\n",
       "    <tr>\n",
       "      <th>1</th>\n",
       "      <td>7.7</td>\n",
       "      <td>1</td>\n",
       "      <td>2.457593</td>\n",
       "      <td>Friday</td>\n",
       "      <td>4</td>\n",
       "      <td>July</td>\n",
       "      <td>2009</td>\n",
       "      <td>20</td>\n",
       "    </tr>\n",
       "    <tr>\n",
       "      <th>2</th>\n",
       "      <td>12.9</td>\n",
       "      <td>1</td>\n",
       "      <td>5.036384</td>\n",
       "      <td>Monday</td>\n",
       "      <td>0</td>\n",
       "      <td>August</td>\n",
       "      <td>2009</td>\n",
       "      <td>21</td>\n",
       "    </tr>\n",
       "    <tr>\n",
       "      <th>3</th>\n",
       "      <td>5.3</td>\n",
       "      <td>3</td>\n",
       "      <td>1.661686</td>\n",
       "      <td>Friday</td>\n",
       "      <td>4</td>\n",
       "      <td>June</td>\n",
       "      <td>2009</td>\n",
       "      <td>8</td>\n",
       "    </tr>\n",
       "    <tr>\n",
       "      <th>4</th>\n",
       "      <td>16.0</td>\n",
       "      <td>5</td>\n",
       "      <td>4.475456</td>\n",
       "      <td>Thursday</td>\n",
       "      <td>3</td>\n",
       "      <td>August</td>\n",
       "      <td>2014</td>\n",
       "      <td>17</td>\n",
       "    </tr>\n",
       "  </tbody>\n",
       "</table>\n",
       "</div>"
      ],
      "text/plain": [
       "   fare_amount  passenger_count  distance_km       day  weekday   month  year  \\\n",
       "0          7.5                1     1.683325  Thursday        3     May  2015   \n",
       "1          7.7                1     2.457593    Friday        4    July  2009   \n",
       "2         12.9                1     5.036384    Monday        0  August  2009   \n",
       "3          5.3                3     1.661686    Friday        4    June  2009   \n",
       "4         16.0                5     4.475456  Thursday        3  August  2014   \n",
       "\n",
       "   hour  \n",
       "0    19  \n",
       "1    20  \n",
       "2    21  \n",
       "3     8  \n",
       "4    17  "
      ]
     },
     "execution_count": 215,
     "metadata": {},
     "output_type": "execute_result"
    }
   ],
   "source": [
    "df_clean.head()"
   ]
  },
  {
   "cell_type": "code",
   "execution_count": 216,
   "id": "54257f97",
   "metadata": {},
   "outputs": [],
   "source": [
    "#df_clean['year'].value_counts()"
   ]
  },
  {
   "cell_type": "code",
   "execution_count": 218,
   "id": "0b8bcae9",
   "metadata": {},
   "outputs": [],
   "source": [
    "#df_clean.describe()"
   ]
  },
  {
   "cell_type": "code",
   "execution_count": 219,
   "id": "b9c12922",
   "metadata": {},
   "outputs": [
    {
     "data": {
      "text/plain": [
       "<Axes: >"
      ]
     },
     "execution_count": 219,
     "metadata": {},
     "output_type": "execute_result"
    },
    {
     "data": {
      "image/png": "[encoded data removed]",
      "text/plain": [
       "<Figure size 640x480 with 1 Axes>"
      ]
     },
     "metadata": {},
     "output_type": "display_data"
    }
   ],
   "source": [
    "sns.boxplot(df_clean['fare_amount'])"
   ]
  },
  {
   "cell_type": "code",
   "execution_count": 220,
   "id": "6605b0cd",
   "metadata": {},
   "outputs": [],
   "source": [
    "df_clean.drop(df_clean[df_clean['fare_amount'] > 200].index, inplace=True)\n",
    "df_clean.drop(df_clean[df_clean['fare_amount'] < 1].index, inplace=True)"
   ]
  },
  {
   "cell_type": "code",
   "execution_count": 221,
   "id": "59e14d97",
   "metadata": {},
   "outputs": [
    {
     "data": {
      "text/html": [
       "<div>\n",
       "<style scoped>\n",
       "    .dataframe tbody tr th:only-of-type {\n",
       "        vertical-align: middle;\n",
       "    }\n",
       "\n",
       "    .dataframe tbody tr th {\n",
       "        vertical-align: top;\n",
       "    }\n",
       "\n",
       "    .dataframe thead th {\n",
       "        text-align: right;\n",
       "    }\n",
       "</style>\n",
       "<table border=\"1\" class=\"dataframe\">\n",
       "  <thead>\n",
       "    <tr style=\"text-align: right;\">\n",
       "      <th></th>\n",
       "      <th>fare_amount</th>\n",
       "      <th>passenger_count</th>\n",
       "      <th>distance_km</th>\n",
       "      <th>weekday</th>\n",
       "      <th>year</th>\n",
       "      <th>hour</th>\n",
       "    </tr>\n",
       "  </thead>\n",
       "  <tbody>\n",
       "    <tr>\n",
       "      <th>count</th>\n",
       "      <td>144583.000000</td>\n",
       "      <td>144583.000000</td>\n",
       "      <td>144583.000000</td>\n",
       "      <td>144583.000000</td>\n",
       "      <td>144583.000000</td>\n",
       "      <td>144583.000000</td>\n",
       "    </tr>\n",
       "    <tr>\n",
       "      <th>mean</th>\n",
       "      <td>9.577385</td>\n",
       "      <td>1.684832</td>\n",
       "      <td>2.784359</td>\n",
       "      <td>3.063728</td>\n",
       "      <td>2011.715693</td>\n",
       "      <td>13.583934</td>\n",
       "    </tr>\n",
       "    <tr>\n",
       "      <th>std</th>\n",
       "      <td>3.837879</td>\n",
       "      <td>1.307017</td>\n",
       "      <td>1.551354</td>\n",
       "      <td>1.947416</td>\n",
       "      <td>1.851542</td>\n",
       "      <td>6.555946</td>\n",
       "    </tr>\n",
       "    <tr>\n",
       "      <th>min</th>\n",
       "      <td>2.500000</td>\n",
       "      <td>0.000000</td>\n",
       "      <td>1.000037</td>\n",
       "      <td>0.000000</td>\n",
       "      <td>2009.000000</td>\n",
       "      <td>0.000000</td>\n",
       "    </tr>\n",
       "    <tr>\n",
       "      <th>25%</th>\n",
       "      <td>6.500000</td>\n",
       "      <td>1.000000</td>\n",
       "      <td>1.578032</td>\n",
       "      <td>1.000000</td>\n",
       "      <td>2010.000000</td>\n",
       "      <td>9.000000</td>\n",
       "    </tr>\n",
       "    <tr>\n",
       "      <th>50%</th>\n",
       "      <td>8.500000</td>\n",
       "      <td>1.000000</td>\n",
       "      <td>2.316199</td>\n",
       "      <td>3.000000</td>\n",
       "      <td>2012.000000</td>\n",
       "      <td>14.000000</td>\n",
       "    </tr>\n",
       "    <tr>\n",
       "      <th>75%</th>\n",
       "      <td>11.700000</td>\n",
       "      <td>2.000000</td>\n",
       "      <td>3.584194</td>\n",
       "      <td>5.000000</td>\n",
       "      <td>2013.000000</td>\n",
       "      <td>19.000000</td>\n",
       "    </tr>\n",
       "    <tr>\n",
       "      <th>max</th>\n",
       "      <td>22.200000</td>\n",
       "      <td>6.000000</td>\n",
       "      <td>7.976727</td>\n",
       "      <td>6.000000</td>\n",
       "      <td>2015.000000</td>\n",
       "      <td>23.000000</td>\n",
       "    </tr>\n",
       "  </tbody>\n",
       "</table>\n",
       "</div>"
      ],
      "text/plain": [
       "         fare_amount  passenger_count    distance_km        weekday  \\\n",
       "count  144583.000000    144583.000000  144583.000000  144583.000000   \n",
       "mean        9.577385         1.684832       2.784359       3.063728   \n",
       "std         3.837879         1.307017       1.551354       1.947416   \n",
       "min         2.500000         0.000000       1.000037       0.000000   \n",
       "25%         6.500000         1.000000       1.578032       1.000000   \n",
       "50%         8.500000         1.000000       2.316199       3.000000   \n",
       "75%        11.700000         2.000000       3.584194       5.000000   \n",
       "max        22.200000         6.000000       7.976727       6.000000   \n",
       "\n",
       "                year           hour  \n",
       "count  144583.000000  144583.000000  \n",
       "mean     2011.715693      13.583934  \n",
       "std         1.851542       6.555946  \n",
       "min      2009.000000       0.000000  \n",
       "25%      2010.000000       9.000000  \n",
       "50%      2012.000000      14.000000  \n",
       "75%      2013.000000      19.000000  \n",
       "max      2015.000000      23.000000  "
      ]
     },
     "execution_count": 221,
     "metadata": {},
     "output_type": "execute_result"
    }
   ],
   "source": [
    "df_clean.describe()"
   ]
  },
  {
   "cell_type": "code",
   "execution_count": 222,
   "id": "a7e6cab2",
   "metadata": {},
   "outputs": [
    {
     "data": {
      "text/html": [
       "<div>\n",
       "<style scoped>\n",
       "    .dataframe tbody tr th:only-of-type {\n",
       "        vertical-align: middle;\n",
       "    }\n",
       "\n",
       "    .dataframe tbody tr th {\n",
       "        vertical-align: top;\n",
       "    }\n",
       "\n",
       "    .dataframe thead th {\n",
       "        text-align: right;\n",
       "    }\n",
       "</style>\n",
       "<table border=\"1\" class=\"dataframe\">\n",
       "  <thead>\n",
       "    <tr style=\"text-align: right;\">\n",
       "      <th></th>\n",
       "      <th>day</th>\n",
       "      <th>month</th>\n",
       "    </tr>\n",
       "  </thead>\n",
       "  <tbody>\n",
       "    <tr>\n",
       "      <th>count</th>\n",
       "      <td>144583</td>\n",
       "      <td>144583</td>\n",
       "    </tr>\n",
       "    <tr>\n",
       "      <th>unique</th>\n",
       "      <td>7</td>\n",
       "      <td>12</td>\n",
       "    </tr>\n",
       "    <tr>\n",
       "      <th>top</th>\n",
       "      <td>Saturday</td>\n",
       "      <td>May</td>\n",
       "    </tr>\n",
       "    <tr>\n",
       "      <th>freq</th>\n",
       "      <td>22485</td>\n",
       "      <td>13645</td>\n",
       "    </tr>\n",
       "  </tbody>\n",
       "</table>\n",
       "</div>"
      ],
      "text/plain": [
       "             day   month\n",
       "count     144583  144583\n",
       "unique         7      12\n",
       "top     Saturday     May\n",
       "freq       22485   13645"
      ]
     },
     "execution_count": 222,
     "metadata": {},
     "output_type": "execute_result"
    }
   ],
   "source": [
    "df_clean.describe(include='O')"
   ]
  },
  {
   "cell_type": "code",
   "execution_count": 223,
   "id": "d412fbe5",
   "metadata": {},
   "outputs": [],
   "source": [
    "# converting day and months in numeric \n",
    "day_mapping = {\n",
    "    'Monday': 1,\n",
    "    'Tuesday': 2,\n",
    "    'Wednesday': 3,\n",
    "    'Thursday': 4,\n",
    "    'Friday': 5,\n",
    "    'Saturday': 6,\n",
    "    'Sunday': 7\n",
    "}\n",
    "month_mapping = {\n",
    "    'January': 1,\n",
    "    'February': 2,\n",
    "    'March': 3,\n",
    "    'April': 4,\n",
    "    'May': 5,\n",
    "    'June': 6,\n",
    "    'July': 7,\n",
    "    'August': 8,\n",
    "    'September': 9,\n",
    "    'October': 10,\n",
    "    'November': 11,\n",
    "    'December': 12\n",
    "}\n",
    "\n",
    "\n",
    "df_clean['day'] = df_clean['day'].map(day_mapping)\n",
    "df_clean['month'] = df_clean['month'].map(month_mapping)"
   ]
  },
  {
   "cell_type": "code",
   "execution_count": 224,
   "id": "d921c871",
   "metadata": {},
   "outputs": [
    {
     "data": {
      "text/html": [
       "<div>\n",
       "<style scoped>\n",
       "    .dataframe tbody tr th:only-of-type {\n",
       "        vertical-align: middle;\n",
       "    }\n",
       "\n",
       "    .dataframe tbody tr th {\n",
       "        vertical-align: top;\n",
       "    }\n",
       "\n",
       "    .dataframe thead th {\n",
       "        text-align: right;\n",
       "    }\n",
       "</style>\n",
       "<table border=\"1\" class=\"dataframe\">\n",
       "  <thead>\n",
       "    <tr style=\"text-align: right;\">\n",
       "      <th></th>\n",
       "      <th>fare_amount</th>\n",
       "      <th>passenger_count</th>\n",
       "      <th>distance_km</th>\n",
       "      <th>day</th>\n",
       "      <th>weekday</th>\n",
       "      <th>month</th>\n",
       "      <th>year</th>\n",
       "      <th>hour</th>\n",
       "    </tr>\n",
       "  </thead>\n",
       "  <tbody>\n",
       "    <tr>\n",
       "      <th>0</th>\n",
       "      <td>7.5</td>\n",
       "      <td>1</td>\n",
       "      <td>1.683325</td>\n",
       "      <td>4</td>\n",
       "      <td>3</td>\n",
       "      <td>5</td>\n",
       "      <td>2015</td>\n",
       "      <td>19</td>\n",
       "    </tr>\n",
       "    <tr>\n",
       "      <th>1</th>\n",
       "      <td>7.7</td>\n",
       "      <td>1</td>\n",
       "      <td>2.457593</td>\n",
       "      <td>5</td>\n",
       "      <td>4</td>\n",
       "      <td>7</td>\n",
       "      <td>2009</td>\n",
       "      <td>20</td>\n",
       "    </tr>\n",
       "    <tr>\n",
       "      <th>2</th>\n",
       "      <td>12.9</td>\n",
       "      <td>1</td>\n",
       "      <td>5.036384</td>\n",
       "      <td>1</td>\n",
       "      <td>0</td>\n",
       "      <td>8</td>\n",
       "      <td>2009</td>\n",
       "      <td>21</td>\n",
       "    </tr>\n",
       "    <tr>\n",
       "      <th>3</th>\n",
       "      <td>5.3</td>\n",
       "      <td>3</td>\n",
       "      <td>1.661686</td>\n",
       "      <td>5</td>\n",
       "      <td>4</td>\n",
       "      <td>6</td>\n",
       "      <td>2009</td>\n",
       "      <td>8</td>\n",
       "    </tr>\n",
       "    <tr>\n",
       "      <th>4</th>\n",
       "      <td>16.0</td>\n",
       "      <td>5</td>\n",
       "      <td>4.475456</td>\n",
       "      <td>4</td>\n",
       "      <td>3</td>\n",
       "      <td>8</td>\n",
       "      <td>2014</td>\n",
       "      <td>17</td>\n",
       "    </tr>\n",
       "  </tbody>\n",
       "</table>\n",
       "</div>"
      ],
      "text/plain": [
       "   fare_amount  passenger_count  distance_km  day  weekday  month  year  hour\n",
       "0          7.5                1     1.683325    4        3      5  2015    19\n",
       "1          7.7                1     2.457593    5        4      7  2009    20\n",
       "2         12.9                1     5.036384    1        0      8  2009    21\n",
       "3          5.3                3     1.661686    5        4      6  2009     8\n",
       "4         16.0                5     4.475456    4        3      8  2014    17"
      ]
     },
     "execution_count": 224,
     "metadata": {},
     "output_type": "execute_result"
    }
   ],
   "source": [
    "df_clean.head()"
   ]
  },
  {
   "cell_type": "code",
   "execution_count": 225,
   "id": "702e99c3",
   "metadata": {},
   "outputs": [
    {
     "data": {
      "text/plain": [
       "<Axes: >"
      ]
     },
     "execution_count": 225,
     "metadata": {},
     "output_type": "execute_result"
    },
    {
     "data": {
      "image/png": "[encoded data removed]",
      "text/plain": [
       "<Figure size 640x480 with 2 Axes>"
      ]
     },
     "metadata": {},
     "output_type": "display_data"
    }
   ],
   "source": [
    "matrix = df_clean.corr()\n",
    "sns.heatmap(df_clean.corr(),annot=True)"
   ]
  },
  {
   "cell_type": "code",
   "execution_count": 226,
   "id": "c26d0e94",
   "metadata": {},
   "outputs": [],
   "source": [
    "x = df_clean.drop('fare_amount', axis=1)\n",
    "y = df_clean['fare_amount']"
   ]
  },
  {
   "cell_type": "code",
   "execution_count": 227,
   "id": "39cea35b",
   "metadata": {},
   "outputs": [
    {
     "data": {
      "text/html": [
       "<div>\n",
       "<style scoped>\n",
       "    .dataframe tbody tr th:only-of-type {\n",
       "        vertical-align: middle;\n",
       "    }\n",
       "\n",
       "    .dataframe tbody tr th {\n",
       "        vertical-align: top;\n",
       "    }\n",
       "\n",
       "    .dataframe thead th {\n",
       "        text-align: right;\n",
       "    }\n",
       "</style>\n",
       "<table border=\"1\" class=\"dataframe\">\n",
       "  <thead>\n",
       "    <tr style=\"text-align: right;\">\n",
       "      <th></th>\n",
       "      <th>passenger_count</th>\n",
       "      <th>distance_km</th>\n",
       "      <th>day</th>\n",
       "      <th>weekday</th>\n",
       "      <th>month</th>\n",
       "      <th>year</th>\n",
       "      <th>hour</th>\n",
       "    </tr>\n",
       "  </thead>\n",
       "  <tbody>\n",
       "    <tr>\n",
       "      <th>0</th>\n",
       "      <td>1</td>\n",
       "      <td>1.683325</td>\n",
       "      <td>4</td>\n",
       "      <td>3</td>\n",
       "      <td>5</td>\n",
       "      <td>2015</td>\n",
       "      <td>19</td>\n",
       "    </tr>\n",
       "    <tr>\n",
       "      <th>1</th>\n",
       "      <td>1</td>\n",
       "      <td>2.457593</td>\n",
       "      <td>5</td>\n",
       "      <td>4</td>\n",
       "      <td>7</td>\n",
       "      <td>2009</td>\n",
       "      <td>20</td>\n",
       "    </tr>\n",
       "    <tr>\n",
       "      <th>2</th>\n",
       "      <td>1</td>\n",
       "      <td>5.036384</td>\n",
       "      <td>1</td>\n",
       "      <td>0</td>\n",
       "      <td>8</td>\n",
       "      <td>2009</td>\n",
       "      <td>21</td>\n",
       "    </tr>\n",
       "    <tr>\n",
       "      <th>3</th>\n",
       "      <td>3</td>\n",
       "      <td>1.661686</td>\n",
       "      <td>5</td>\n",
       "      <td>4</td>\n",
       "      <td>6</td>\n",
       "      <td>2009</td>\n",
       "      <td>8</td>\n",
       "    </tr>\n",
       "    <tr>\n",
       "      <th>4</th>\n",
       "      <td>5</td>\n",
       "      <td>4.475456</td>\n",
       "      <td>4</td>\n",
       "      <td>3</td>\n",
       "      <td>8</td>\n",
       "      <td>2014</td>\n",
       "      <td>17</td>\n",
       "    </tr>\n",
       "  </tbody>\n",
       "</table>\n",
       "</div>"
      ],
      "text/plain": [
       "   passenger_count  distance_km  day  weekday  month  year  hour\n",
       "0                1     1.683325    4        3      5  2015    19\n",
       "1                1     2.457593    5        4      7  2009    20\n",
       "2                1     5.036384    1        0      8  2009    21\n",
       "3                3     1.661686    5        4      6  2009     8\n",
       "4                5     4.475456    4        3      8  2014    17"
      ]
     },
     "execution_count": 227,
     "metadata": {},
     "output_type": "execute_result"
    }
   ],
   "source": [
    "x.head()"
   ]
  },
  {
   "cell_type": "code",
   "execution_count": 232,
   "id": "97ac29d9",
   "metadata": {},
   "outputs": [],
   "source": [
    "from sklearn.model_selection import train_test_split\n",
    "x_train, x_test, y_train, y_test = train_test_split(x, y, test_size = 0.2, random_state = 42)"
   ]
  },
  {
   "cell_type": "code",
   "execution_count": 233,
   "id": "89c9a420",
   "metadata": {},
   "outputs": [],
   "source": [
    "x_train = preprocessing.fit_transform(x_train)\n",
    "x_test = preprocessing.transform(x_test)"
   ]
  },
  {
   "cell_type": "code",
   "execution_count": 234,
   "id": "b2a3bc33",
   "metadata": {},
   "outputs": [
    {
     "name": "stdout",
     "output_type": "stream",
     "text": [
      "RMSE: 2.1796412672771415\n",
      "R2: 0.6742779948479607\n"
     ]
    }
   ],
   "source": [
    "from sklearn.linear_model import LinearRegression \n",
    "lr = LinearRegression()\n",
    "lr.fit(x_train, y_train)\n",
    "\n",
    "# Model Evaluation\n",
    "from sklearn.metrics import mean_squared_error, r2_score\n",
    "\n",
    "# Predictions\n",
    "y_pred = lr.predict(x_test)\n",
    "\n",
    "# Model Evaluation\n",
    "print('RMSE:', np.sqrt(mean_squared_error(y_test, y_pred)))\n",
    "print('R2:', r2_score(y_test, y_pred))"
   ]
  },
  {
   "cell_type": "code",
   "execution_count": 235,
   "id": "904f2b28",
   "metadata": {},
   "outputs": [
    {
     "name": "stdout",
     "output_type": "stream",
     "text": [
      "RMSE: 2.179641448955581\n",
      "R2: 0.6742779405485044\n"
     ]
    }
   ],
   "source": [
    "from sklearn.linear_model import Ridge \n",
    "r = Ridge()\n",
    "r = r.fit(x_train , y_train)\n",
    "\n",
    "y_pred_ridge = r.predict(x_test) \n",
    "print('RMSE:', np.sqrt(mean_squared_error(y_test, y_pred_ridge)))\n",
    "print('R2:', r2_score(y_test, y_pred_ridge))"
   ]
  },
  {
   "cell_type": "code",
   "execution_count": 236,
   "id": "6dd0ee32",
   "metadata": {},
   "outputs": [
    {
     "name": "stdout",
     "output_type": "stream",
     "text": [
      "RMSE: 2.6592463412324223\n",
      "R2: 0.5151647399296657\n"
     ]
    }
   ],
   "source": [
    "from sklearn.linear_model import Lasso\n",
    "r = Lasso()\n",
    "r = r.fit(x_train , y_train)\n",
    "\n",
    "y_pred_lasso = r.predict(x_test) \n",
    "print('RMSE:', np.sqrt(mean_squared_error(y_test, y_pred_lasso))) \n",
    "print('R2:', r2_score(y_test, y_pred_lasso)) #Measures the proportion of the variance in the dependent variable explained by the model."
   ]
  },
  {
   "cell_type": "markdown",
   "id": "a9d65bcb",
   "metadata": {},
   "source": [
    "The lower value of MAE, MSE, and RMSE implies higher accuracy of a regression model. As we can see in the above table Linear Regression has the lowest value of RMSE, So it is considered most suitable"
   ]
  },
  {
   "cell_type": "code",
   "execution_count": 2,
   "id": "11a70f84",
   "metadata": {},
   "outputs": [],
   "source": [
    "# linear regression - Linear regression is a straightforward method for modeling the relationship between a dependent variable (target) and one or more independent variables (features or predictors).\n",
    "# Ridge Regreesion - Ridge regression is an extension of linear regression that adds an L2 regularization term to the linear regression's cost function.L2 regularization (also known as Ridge regularization) adds a penalty term that encourages the magnitude of the coefficients to be small. This helps to prevent overfitting by reducing the influence of individual features.Ridge regression is particularly useful when multicollinearity (high correlation between features) is a concern, as it tends to keep all features in the model while reducing their weights.\n",
    "# Lasso regression - Lasso (Least Absolute Shrinkage and Selection Operator) is another extension of linear regression, but it uses L1 regularization.L1 regularization encourages the sparsity of the coefficients by adding a penalty term that forces some of the feature weights to be exactly zero. As a result, Lasso can perform feature selection by effectively excluding some features from the model.Lasso is particularly useful when there are many features, and you want to identify and retain the most important ones.\n",
    "\n",
    "# key difference - Ridge adds a penalty term proportional to the square of the coefficients (L2), while Lasso adds a penalty term proportional to the absolute value of the coefficients (L1).Ridge tends to shrink all coefficient values towards zero but doesn't make them exactly zero, while Lasso can set some coefficients to zero, effectively excluding features."
   ]
  },
  {
   "cell_type": "code",
   "execution_count": null,
   "id": "348d812d",
   "metadata": {},
   "outputs": [],
   "source": []
  }
 ],
 "metadata": {
  "kernelspec": {
   "display_name": "Python 3 (ipykernel)",
   "language": "python",
   "name": "python3"
  },
  "language_info": {
   "codemirror_mode": {
    "name": "ipython",
    "version": 3
   },
   "file_extension": ".py",
   "mimetype": "text/x-python",
   "name": "python",
   "nbconvert_exporter": "python",
   "pygments_lexer": "ipython3",
   "version": "3.10.9"
  }
 },
 "nbformat": 4,
 "nbformat_minor": 5
}
