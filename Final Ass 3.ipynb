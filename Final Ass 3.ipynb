{
 "cells": [
  {
   "cell_type": "code",
   "execution_count": 8,
   "id": "66be1931",
   "metadata": {},
   "outputs": [
    {
     "name": "stdout",
     "output_type": "stream",
     "text": [
      "Frequency:\n",
      " 0.0    500\n",
      "1.0    268\n",
      "Name: Outcome, dtype: int64\n",
      "Mean:\n",
      " Pregnancies                   3.845052\n",
      "Glucose                     120.894531\n",
      "BloodPressure                69.105469\n",
      "SkinThickness                20.536458\n",
      "Insulin                      79.799479\n",
      "BMI                          31.992578\n",
      "DiabetesPedigreeFunction      0.471876\n",
      "Age                          33.240885\n",
      "Outcome                       0.348958\n",
      "dtype: float64\n",
      "Median:\n",
      " Pregnancies                   3.0000\n",
      "Glucose                     117.0000\n",
      "BloodPressure                72.0000\n",
      "SkinThickness                23.0000\n",
      "Insulin                      30.5000\n",
      "BMI                          32.0000\n",
      "DiabetesPedigreeFunction      0.3725\n",
      "Age                          29.0000\n",
      "Outcome                       0.0000\n",
      "dtype: float64\n",
      "Mode:\n",
      " ModeResult(mode=array([0.]), count=array([500]))\n",
      "Variance:\n",
      " Pregnancies                    11.354056\n",
      "Glucose                      1022.248314\n",
      "BloodPressure                 374.647271\n",
      "SkinThickness                 254.473245\n",
      "Insulin                     13281.180078\n",
      "BMI                            62.159984\n",
      "DiabetesPedigreeFunction        0.109779\n",
      "Age                           138.303046\n",
      "Outcome                         0.227483\n",
      "dtype: float64\n",
      "Standard Deviation:\n",
      " Pregnancies                   3.369578\n",
      "Glucose                      31.972618\n",
      "BloodPressure                19.355807\n",
      "SkinThickness                15.952218\n",
      "Insulin                     115.244002\n",
      "BMI                           7.884160\n",
      "DiabetesPedigreeFunction      0.331329\n",
      "Age                          11.760232\n",
      "Outcome                       0.476951\n",
      "dtype: float64\n",
      "Skewness:\n",
      " [ 0.89991194  0.17341396 -1.84000523  0.10915876  2.26781046 -0.42814328\n",
      "  1.9161592   1.12738926  0.6337757 ]\n",
      "Kurtosis:\n",
      " [ 0.15038274  0.62881333  5.13869066 -0.52449449  7.15957492  3.26125742\n",
      "  5.55079205  0.63117694 -1.59832836]\n",
      "Linear Regression MSE: 0.17104527280850096\n",
      "Logistic Regression Accuracy: 0.7467532467532467\n",
      "Multiple Regression MSE: 0.17104527280850096\n"
     ]
    },
    {
     "name": "stderr",
     "output_type": "stream",
     "text": [
      "C:\\Users\\gadad\\AppData\\Local\\Temp\\ipykernel_23456\\556135895.py:32: FutureWarning: Unlike other reduction functions (e.g. `skew`, `kurtosis`), the default behavior of `mode` typically preserves the axis it acts along. In SciPy 1.11.0, this behavior will change: the default value of `keepdims` will become False, the `axis` over which the statistic is taken will be eliminated, and the value None will no longer be accepted. Set `keepdims` to True or False to avoid this warning.\n",
      "  mode_result = mode(df['Outcome'])\n",
      "G:\\user\\lib\\site-packages\\sklearn\\linear_model\\_logistic.py:458: ConvergenceWarning: lbfgs failed to converge (status=1):\n",
      "STOP: TOTAL NO. of ITERATIONS REACHED LIMIT.\n",
      "\n",
      "Increase the number of iterations (max_iter) or scale the data as shown in:\n",
      "    https://scikit-learn.org/stable/modules/preprocessing.html\n",
      "Please also refer to the documentation for alternative solver options:\n",
      "    https://scikit-learn.org/stable/modules/linear_model.html#logistic-regression\n",
      "  n_iter_i = _check_optimize_result(\n"
     ]
    }
   ],
   "source": [
    "import pandas as pd\n",
    "import numpy as np\n",
    "from scipy.stats import mode, skew, kurtosis\n",
    "from sklearn.model_selection import train_test_split\n",
    "from sklearn.linear_model import LinearRegression, LogisticRegression\n",
    "from sklearn.metrics import mean_squared_error, accuracy_score\n",
    "\n",
    "# Load the Pima Indians Diabetes dataset from your local file\n",
    "file_path = \"diabetes.csv\"  # Replace with the actual path to your downloaded dataset\n",
    "names = [\"Pregnancies\", \"Glucose\", \"BloodPressure\", \"SkinThickness\", \"Insulin\", \"BMI\", \"DiabetesPedigreeFunction\", \"Age\", \"Outcome\"]\n",
    "df = pd.read_csv(file_path, names=names)\n",
    "\n",
    "# Ensure \"Outcome\" column is numeric (if it's not already)\n",
    "df[\"Outcome\"] = pd.to_numeric(df[\"Outcome\"], errors=\"coerce\")\n",
    "\n",
    "# Check data types of other columns and convert them to numeric if necessary\n",
    "numeric_columns = [\"Pregnancies\", \"Glucose\", \"BloodPressure\", \"SkinThickness\", \"Insulin\", \"BMI\", \"DiabetesPedigreeFunction\", \"Age\"]\n",
    "df[numeric_columns] = df[numeric_columns].apply(pd.to_numeric, errors=\"coerce\")\n",
    "\n",
    "df = df.dropna()\n",
    "\n",
    "# a. Univariate Analysis\n",
    "# Frequency\n",
    "frequency = df['Outcome'].value_counts()\n",
    "print(\"Frequency:\\n\", frequency)\n",
    "\n",
    "# Mean, Median, Mode, Variance, Standard Deviation, Skewness, and Kurtosis\n",
    "mean = df.mean()\n",
    "median = df.median()\n",
    "variance = df.var()\n",
    "std_deviation = df.std()\n",
    "mode_result = mode(df['Outcome'])\n",
    "skewness = skew(df)\n",
    "kurt = kurtosis(df)\n",
    "\n",
    "print(\"Mean:\\n\", mean)\n",
    "print(\"Median:\\n\", median)\n",
    "print(\"Mode:\\n\", mode_result)\n",
    "print(\"Variance:\\n\", variance)\n",
    "print(\"Standard Deviation:\\n\", std_deviation)\n",
    "print(\"Skewness:\\n\", skewness)\n",
    "print(\"Kurtosis:\\n\", kurt)\n",
    "\n",
    "\n",
    "\n"
   ]
  },
  {
   "cell_type": "code",
   "execution_count": 10,
   "id": "d1cc1c4d",
   "metadata": {},
   "outputs": [
    {
     "name": "stdout",
     "output_type": "stream",
     "text": [
      "Linear Regression MSE: 0.17104527280850096\n",
      "Logistic Regression Accuracy: 0.7467532467532467\n"
     ]
    },
    {
     "name": "stderr",
     "output_type": "stream",
     "text": [
      "G:\\user\\lib\\site-packages\\sklearn\\linear_model\\_logistic.py:458: ConvergenceWarning: lbfgs failed to converge (status=1):\n",
      "STOP: TOTAL NO. of ITERATIONS REACHED LIMIT.\n",
      "\n",
      "Increase the number of iterations (max_iter) or scale the data as shown in:\n",
      "    https://scikit-learn.org/stable/modules/preprocessing.html\n",
      "Please also refer to the documentation for alternative solver options:\n",
      "    https://scikit-learn.org/stable/modules/linear_model.html#logistic-regression\n",
      "  n_iter_i = _check_optimize_result(\n"
     ]
    }
   ],
   "source": [
    "# b. Bivariate Analysis\n",
    "# Split data into features and target\n",
    "X = df.drop('Outcome', axis=1)\n",
    "y = df['Outcome']\n",
    "\n",
    "# Split data into a training and testing set\n",
    "X_train, X_test, y_train, y_test = train_test_split(X, y, test_size=0.2, random_state=42)\n",
    "\n",
    "# Linear Regression\n",
    "linear_reg = LinearRegression()\n",
    "linear_reg.fit(X_train, y_train)\n",
    "\n",
    "# Logistic Regression\n",
    "logistic_reg = LogisticRegression()\n",
    "logistic_reg.fit(X_train, y_train)\n",
    "\n",
    "# Predictions\n",
    "linear_predictions = linear_reg.predict(X_test)\n",
    "logistic_predictions = logistic_reg.predict(X_test)\n",
    "\n",
    "# Calculate Mean Squared Error for Linear Regression\n",
    "mse_linear = mean_squared_error(y_test, linear_predictions)\n",
    "print(\"Linear Regression MSE:\", mse_linear)\n",
    "\n",
    "# Calculate Accuracy for Logistic Regression\n",
    "accuracy_logistic = accuracy_score(y_test, logistic_predictions)\n",
    "print(\"Logistic Regression Accuracy:\", accuracy_logistic)\n"
   ]
  },
  {
   "cell_type": "code",
   "execution_count": 9,
   "id": "12a3b907",
   "metadata": {},
   "outputs": [
    {
     "name": "stdout",
     "output_type": "stream",
     "text": [
      "Multiple Regression MSE: 0.17104527280850096\n"
     ]
    }
   ],
   "source": [
    "# c. Multiple Regression Analysis\n",
    "# For multiple regression analysis, you can include more predictor variables in the model and analyze their impact on the 'Outcome'.\n",
    "\n",
    "# Example:\n",
    "multiple_reg = LinearRegression()\n",
    "multiple_reg.fit(X_train, y_train)\n",
    "multiple_predictions = multiple_reg.predict(X_test)\n",
    "mse_multiple = mean_squared_error(y_test, multiple_predictions)\n",
    "print(\"Multiple Regression MSE:\", mse_multiple)"
   ]
  },
  {
   "cell_type": "code",
   "execution_count": 5,
   "id": "768a5cf4",
   "metadata": {},
   "outputs": [],
   "source": [
    "\n"
   ]
  },
  {
   "cell_type": "code",
   "execution_count": null,
   "id": "3d58f59f",
   "metadata": {},
   "outputs": [],
   "source": []
  },
  {
   "cell_type": "code",
   "execution_count": null,
   "id": "a75fef28",
   "metadata": {},
   "outputs": [],
   "source": []
  },
  {
   "cell_type": "code",
   "execution_count": null,
   "id": "6ea01fc5",
   "metadata": {},
   "outputs": [],
   "source": []
  },
  {
   "cell_type": "code",
   "execution_count": null,
   "id": "4deb51e8",
   "metadata": {},
   "outputs": [],
   "source": []
  },
  {
   "cell_type": "code",
   "execution_count": null,
   "id": "3513e372",
   "metadata": {},
   "outputs": [],
   "source": []
  },
  {
   "cell_type": "code",
   "execution_count": null,
   "id": "6e911763",
   "metadata": {},
   "outputs": [],
   "source": []
  },
  {
   "cell_type": "code",
   "execution_count": null,
   "id": "a54c5f8c",
   "metadata": {},
   "outputs": [],
   "source": []
  },
  {
   "cell_type": "code",
   "execution_count": null,
   "id": "6b47428e",
   "metadata": {},
   "outputs": [],
   "source": []
  },
  {
   "cell_type": "code",
   "execution_count": null,
   "id": "1220c7ee",
   "metadata": {},
   "outputs": [],
   "source": []
  },
  {
   "cell_type": "code",
   "execution_count": null,
   "id": "9dd08419",
   "metadata": {},
   "outputs": [],
   "source": []
  },
  {
   "cell_type": "code",
   "execution_count": null,
   "id": "a54d705c",
   "metadata": {},
   "outputs": [],
   "source": []
  },
  {
   "cell_type": "code",
   "execution_count": null,
   "id": "0eff73bc",
   "metadata": {},
   "outputs": [],
   "source": []
  },
  {
   "cell_type": "code",
   "execution_count": null,
   "id": "c8d59969",
   "metadata": {},
   "outputs": [],
   "source": []
  },
  {
   "cell_type": "code",
   "execution_count": null,
   "id": "91f8b5e8",
   "metadata": {},
   "outputs": [],
   "source": []
  },
  {
   "cell_type": "code",
   "execution_count": null,
   "id": "5ba55fe2",
   "metadata": {},
   "outputs": [],
   "source": []
  },
  {
   "cell_type": "code",
   "execution_count": null,
   "id": "2eaf96ad",
   "metadata": {},
   "outputs": [],
   "source": []
  },
  {
   "cell_type": "code",
   "execution_count": null,
   "id": "aae18b31",
   "metadata": {},
   "outputs": [],
   "source": []
  },
  {
   "cell_type": "code",
   "execution_count": null,
   "id": "60cda9d4",
   "metadata": {},
   "outputs": [],
   "source": []
  },
  {
   "cell_type": "code",
   "execution_count": null,
   "id": "6af09b38",
   "metadata": {},
   "outputs": [],
   "source": []
  },
  {
   "cell_type": "code",
   "execution_count": null,
   "id": "7389637c",
   "metadata": {},
   "outputs": [],
   "source": []
  },
  {
   "cell_type": "code",
   "execution_count": null,
   "id": "2a01cc5c",
   "metadata": {},
   "outputs": [],
   "source": []
  },
  {
   "cell_type": "code",
   "execution_count": null,
   "id": "a5c0b176",
   "metadata": {},
   "outputs": [],
   "source": []
  },
  {
   "cell_type": "code",
   "execution_count": null,
   "id": "20b1251b",
   "metadata": {},
   "outputs": [],
   "source": []
  },
  {
   "cell_type": "code",
   "execution_count": null,
   "id": "2bdfe433",
   "metadata": {},
   "outputs": [],
   "source": []
  },
  {
   "cell_type": "code",
   "execution_count": null,
   "id": "3b645abc",
   "metadata": {},
   "outputs": [],
   "source": []
  },
  {
   "cell_type": "code",
   "execution_count": null,
   "id": "04670216",
   "metadata": {},
   "outputs": [],
   "source": []
  },
  {
   "cell_type": "code",
   "execution_count": null,
   "id": "563b73f6",
   "metadata": {},
   "outputs": [],
   "source": []
  },
  {
   "cell_type": "code",
   "execution_count": null,
   "id": "d3b020eb",
   "metadata": {},
   "outputs": [],
   "source": []
  },
  {
   "cell_type": "code",
   "execution_count": null,
   "id": "c5a0288f",
   "metadata": {},
   "outputs": [],
   "source": []
  },
  {
   "cell_type": "code",
   "execution_count": null,
   "id": "cb00a9ee",
   "metadata": {},
   "outputs": [],
   "source": []
  },
  {
   "cell_type": "code",
   "execution_count": null,
   "id": "fe21b7cf",
   "metadata": {},
   "outputs": [],
   "source": []
  },
  {
   "cell_type": "code",
   "execution_count": null,
   "id": "e1901f0e",
   "metadata": {},
   "outputs": [],
   "source": []
  },
  {
   "cell_type": "code",
   "execution_count": null,
   "id": "14daceb0",
   "metadata": {},
   "outputs": [],
   "source": []
  },
  {
   "cell_type": "code",
   "execution_count": null,
   "id": "a17a5079",
   "metadata": {},
   "outputs": [],
   "source": [
    "import pandas as pd\n",
    "import numpy as np\n",
    "from scipy.stats import mode\n",
    "from sklearn.linear_model import LinearRegression, LogisticRegression\n",
    "from sklearn.metrics import mean_squared_error, accuracy_score\n",
    "from scipy.stats import skew, kurtosis\n",
    "\n",
    "# Load the datasets (replace with the actual dataset files)\n",
    "diabetes_data = pd.read_csv(\"diabetes_dataset.csv\")\n",
    "pima_data = pd.read_csv(\"pima_indians_diabetes_dataset.csv\")\n",
    "\n",
    "# Univariate analysis\n",
    "def univariate_analysis(data):\n",
    "    # Frequency for categorical variables\n",
    "    frequency = data['categorical_column'].value_counts()\n",
    "\n",
    "    # Mean, median, mode, variance, standard deviation, skewness, and kurtosis for numerical variables\n",
    "    mean = data['numerical_column'].mean()\n",
    "    median = data['numerical_column'].median()\n",
    "    mode_value, _ = mode(data['numerical_column'])\n",
    "    variance = data['numerical_column'].var()\n",
    "    std_deviation = data['numerical_column'].std()\n",
    "    skewness = skew(data['numerical_column'])\n",
    "    kurt = kurtosis(data['numerical_column'])\n",
    "\n",
    "    # Display or store these statistics as needed\n",
    "    print(\"Frequency:\")\n",
    "    print(frequency)\n",
    "    print(\"\\nMean:\", mean)\n",
    "    print(\"Median:\", median)\n",
    "    print(\"Mode:\", mode_value[0])\n",
    "    print(\"Variance:\", variance)\n",
    "    print(\"Standard Deviation:\", std_deviation)\n",
    "    print(\"Skewness:\", skewness)\n",
    "    print(\"Kurtosis:\", kurt)\n",
    "\n",
    "# Bivariate analysis - Linear Regression\n",
    "def linear_regression_analysis(data):\n",
    "    X = data[['feature1', 'feature2', ...]]  # Replace with actual feature names\n",
    "    y = data['target']\n",
    "    model = LinearRegression()\n",
    "    model.fit(X, y)\n",
    "    y_pred = model.predict(X)\n",
    "    mse = mean_squared_error(y, y_pred)\n",
    "\n",
    "    # Display or store regression results\n",
    "    print(\"Linear Regression MSE:\", mse)\n",
    "\n",
    "# Bivariate analysis - Logistic Regression\n",
    "def logistic_regression_analysis(data):\n",
    "    X = data[['feature1', 'feature2', ...]]  # Replace with actual feature names\n",
    "    y = data['target']\n",
    "    model = LogisticRegression()\n",
    "    model.fit(X, y)\n",
    "    y_pred = model.predict(X)\n",
    "    accuracy = accuracy_score(y, y_pred)\n",
    "\n",
    "    # Display or store logistic regression results\n",
    "    print(\"Logistic Regression Accuracy:\", accuracy)\n",
    "\n",
    "# Call the univariate analysis functions for both datasets\n",
    "univariate_analysis(diabetes_data)\n",
    "univariate_analysis(pima_data)\n",
    "\n",
    "# Call the linear regression analysis for both datasets\n",
    "linear_regression_analysis(diabetes_data)\n",
    "linear_regression_analysis(pima_data)\n",
    "\n",
    "# Call the logistic regression analysis for both datasets\n",
    "logistic_regression_analysis(diabetes_data)\n",
    "logistic_regression_analysis(pima_data)\n"
   ]
  }
 ],
 "metadata": {
  "kernelspec": {
   "display_name": "Python 3 (ipykernel)",
   "language": "python",
   "name": "python3"
  },
  "language_info": {
   "codemirror_mode": {
    "name": "ipython",
    "version": 3
   },
   "file_extension": ".py",
   "mimetype": "text/x-python",
   "name": "python",
   "nbconvert_exporter": "python",
   "pygments_lexer": "ipython3",
   "version": "3.10.9"
  }
 },
 "nbformat": 4,
 "nbformat_minor": 5
}
